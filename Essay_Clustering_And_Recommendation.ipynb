{
  "nbformat": 4,
  "nbformat_minor": 0,
  "metadata": {
    "colab": {
      "name": "Essay_Clustering_And_Recommendation.ipynb",
      "provenance": [],
      "collapsed_sections": []
    },
    "kernelspec": {
      "name": "python3",
      "display_name": "Python 3"
    }
  },
  "cells": [
    {
      "cell_type": "code",
      "metadata": {
        "id": "Sk4j3UomdiTb"
      },
      "source": [
        "# Importing the libraries\n",
        "\n",
        "import numpy as np\n",
        "import pandas as pd\n",
        "import matplotlib.pyplot as plt\n",
        "import plotly as py\n",
        "import plotly.graph_objs as go\n",
        "from google.colab import files\n",
        "from plotly.offline import download_plotlyjs, init_notebook_mode, plot, iplot\n",
        "from sklearn import cluster\n",
        "from sklearn.neighbors import kneighbors_graph\n",
        "from sklearn.mixture import GaussianMixture\n",
        "from sklearn.metrics import davies_bouldin_score,silhouette_score,silhouette_samples,calinski_harabasz_score\n",
        "from sklearn.preprocessing import StandardScaler\n",
        "from sklearn.decomposition import PCA"
      ],
      "execution_count": 1,
      "outputs": []
    },
    {
      "cell_type": "markdown",
      "metadata": {
        "id": "Ujmgg9W5J93_"
      },
      "source": [
        "# Uploading the test and training data files on google colab."
      ]
    },
    {
      "cell_type": "code",
      "metadata": {
        "id": "9w40P6PRgM4t",
        "colab": {
          "resources": {
            "http://localhost:8080/nbextensions/google.colab/files.js": {
              "data": "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",
              "ok": true,
              "headers": [
                [
                  "content-type",
                  "application/javascript"
                ]
              ],
              "status": 200,
              "status_text": ""
            }
          },
          "base_uri": "https://localhost:8080/",
          "height": 72
        },
        "outputId": "298ebfe9-23fc-4e74-eb28-953fc6e6a1a7"
      },
      "source": [
        "uploaded = files.upload()"
      ],
      "execution_count": 2,
      "outputs": [
        {
          "output_type": "display_data",
          "data": {
            "text/html": [
              "\n",
              "     <input type=\"file\" id=\"files-7563fc60-67ca-4b29-907b-06802cad1740\" name=\"files[]\" multiple disabled\n",
              "        style=\"border:none\" />\n",
              "     <output id=\"result-7563fc60-67ca-4b29-907b-06802cad1740\">\n",
              "      Upload widget is only available when the cell has been executed in the\n",
              "      current browser session. Please rerun this cell to enable.\n",
              "      </output>\n",
              "      <script src=\"/nbextensions/google.colab/files.js\"></script> "
            ],
            "text/plain": [
              "<IPython.core.display.HTML object>"
            ]
          },
          "metadata": {}
        },
        {
          "output_type": "stream",
          "name": "stdout",
          "text": [
            "Saving training_features - Copy.csv to training_features - Copy.csv\n"
          ]
        }
      ]
    },
    {
      "cell_type": "code",
      "metadata": {
        "colab": {
          "resources": {
            "http://localhost:8080/nbextensions/google.colab/files.js": {
              "data": "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",
              "ok": true,
              "headers": [
                [
                  "content-type",
                  "application/javascript"
                ]
              ],
              "status": 200,
              "status_text": ""
            }
          },
          "base_uri": "https://localhost:8080/",
          "height": 72
        },
        "id": "EBbDCi_hgkgF",
        "outputId": "15917f67-6a05-41d8-fa75-db7e433dbcb1"
      },
      "source": [
        "uploaded_test = files.upload()"
      ],
      "execution_count": 3,
      "outputs": [
        {
          "output_type": "display_data",
          "data": {
            "text/html": [
              "\n",
              "     <input type=\"file\" id=\"files-676f0856-da72-4e71-a6d8-771e3bc305d6\" name=\"files[]\" multiple disabled\n",
              "        style=\"border:none\" />\n",
              "     <output id=\"result-676f0856-da72-4e71-a6d8-771e3bc305d6\">\n",
              "      Upload widget is only available when the cell has been executed in the\n",
              "      current browser session. Please rerun this cell to enable.\n",
              "      </output>\n",
              "      <script src=\"/nbextensions/google.colab/files.js\"></script> "
            ],
            "text/plain": [
              "<IPython.core.display.HTML object>"
            ]
          },
          "metadata": {}
        },
        {
          "output_type": "stream",
          "name": "stdout",
          "text": [
            "Saving test_features - Copy.csv to test_features - Copy.csv\n"
          ]
        }
      ]
    },
    {
      "cell_type": "code",
      "metadata": {
        "id": "lDv9XIXDgn6u"
      },
      "source": [
        "training_data = pd.read_csv('training_features - Copy.csv')\n",
        "test_data = pd.read_csv('test_features - Copy.csv')"
      ],
      "execution_count": 4,
      "outputs": []
    },
    {
      "cell_type": "markdown",
      "metadata": {
        "id": "H5vY1VMcKUwc"
      },
      "source": [
        "# Separating predictor and target variables."
      ]
    },
    {
      "cell_type": "code",
      "metadata": {
        "id": "ltQPiKV4auwu"
      },
      "source": [
        "X_train = training_data.iloc[:, 4:].values\n",
        "Y_train = training_data.iloc[:, 2].values\n",
        "X_test = test_data.iloc[:, 4:].values\n",
        "Y_test = test_data.iloc[:, 2].values"
      ],
      "execution_count": 6,
      "outputs": []
    },
    {
      "cell_type": "markdown",
      "metadata": {
        "id": "wicr1OJ1KIGs"
      },
      "source": [
        "# Standardising Data"
      ]
    },
    {
      "cell_type": "code",
      "metadata": {
        "id": "xZfLai6BauxI"
      },
      "source": [
        "sc = StandardScaler()\n",
        "X_train = sc.fit_transform(X_train)\n",
        "X_test = sc.transform(X_test)"
      ],
      "execution_count": 8,
      "outputs": []
    },
    {
      "cell_type": "markdown",
      "metadata": {
        "id": "rlIuHvUfauxO"
      },
      "source": [
        "# Principal Componenet Analysis (PCA)"
      ]
    },
    {
      "cell_type": "code",
      "metadata": {
        "id": "-_5E2JDeauxQ"
      },
      "source": [
        "pca = PCA()\n",
        "X_train = pca.fit_transform(X_train)\n",
        "X_test = pca.transform(X_test)"
      ],
      "execution_count": 9,
      "outputs": []
    },
    {
      "cell_type": "markdown",
      "metadata": {
        "id": "vdilgRL5672H"
      },
      "source": [
        "## Common Functions"
      ]
    },
    {
      "cell_type": "code",
      "metadata": {
        "id": "q0ReVvUXiUmV"
      },
      "source": [
        "# Evaluation Metrics calculations\n",
        "def MetricCalculations (model, X_train, y_labels_train):\n",
        "  # Calinski-Harabasz Index\n",
        "  chs = calinski_harabasz_score(X_train,y_labels_train)\n",
        "  # Davies-Bouldin Index\n",
        "  db = davies_bouldin_score(X_train,y_labels_train)\n",
        "  # Silhouette Coefficient\n",
        "  slc = silhouette_score(X_train,y_labels_train,metric='euclidean')\n",
        "  print(model,' Calinski-Harabasz Index ', chs)\n",
        "  print(model,' Davies-Bouldin Index ', db)\n",
        "  print(model,' Silhouette Coefficient ',slc)\n",
        "\n",
        "# Performing cluster label predictions\n",
        "def TrainingPrediction (algorithm, X_train):\n",
        "  algorithm.fit(X_train)\n",
        "  if hasattr(algorithm, 'labels_'):\n",
        "    y_pred = algorithm.labels_.astype(int)\n",
        "  else:\n",
        "    y_pred = algorithm.predict(X_train)\n",
        "  return y_pred"
      ],
      "execution_count": 10,
      "outputs": []
    },
    {
      "cell_type": "markdown",
      "metadata": {
        "id": "TCOE3KBZhkjZ"
      },
      "source": [
        "# K-Means Clustering Algorithm"
      ]
    },
    {
      "cell_type": "code",
      "metadata": {
        "id": "EcpHrcV37or_"
      },
      "source": [
        "# 'Elbow Method' to determine optimal value of 'K'\n",
        "Sum_of_squared_distances = []\n",
        "K = range(1,15)\n",
        "for k in K:\n",
        "    km = cluster.KMeans(n_clusters = k, random_state=10)\n",
        "    km = km.fit(X_train)\n",
        "    Sum_of_squared_distances.append(km.inertia_)"
      ],
      "execution_count": 11,
      "outputs": []
    },
    {
      "cell_type": "code",
      "metadata": {
        "colab": {
          "base_uri": "https://localhost:8080/",
          "height": 295
        },
        "id": "bh05VDhN8JHW",
        "outputId": "ccb88270-a69b-4299-fb45-5c835bcf652c"
      },
      "source": [
        "plt.plot(K, Sum_of_squared_distances, 'bx-')\n",
        "plt.xlabel('k')\n",
        "plt.ylabel('Sum_of_squared_distances')\n",
        "plt.title('Elbow Method For Optimal k')\n",
        "plt.show()"
      ],
      "execution_count": 12,
      "outputs": [
        {
          "output_type": "display_data",
          "data": {
            "image/png": "[encoded data removed]",
            "text/plain": [
              "<Figure size 432x288 with 1 Axes>"
            ]
          },
          "metadata": {
            "needs_background": "light"
          }
        }
      ]
    },
    {
      "cell_type": "code",
      "metadata": {
        "id": "s7pma3zOhkGq",
        "colab": {
          "base_uri": "https://localhost:8080/"
        },
        "outputId": "9cded3e8-832b-4400-acfe-45f9b1e77207"
      },
      "source": [
        "n_clusters = 5\n",
        "kmeans = cluster.KMeans(n_clusters = n_clusters, random_state=10)\n",
        "y_labels_train = TrainingPrediction(kmeans, X_train)\n",
        "MetricCalculations('KMeans', X_train, y_labels_train)\n",
        "print('Unique labels: ', np.unique(y_labels_train))"
      ],
      "execution_count": 13,
      "outputs": [
        {
          "output_type": "stream",
          "name": "stdout",
          "text": [
            "KMeans  Calinski-Harabasz Index  137.76311811804626\n",
            "KMeans  Davies-Bouldin Index  1.7353232859282766\n",
            "KMeans  Silhouette Coefficient  0.11417602038357669\n",
            "Unique labels:  [0 1 2 3 4]\n"
          ]
        }
      ]
    },
    {
      "cell_type": "markdown",
      "metadata": {
        "id": "fi5s1eLWI6xE"
      },
      "source": [
        "# Agglomerative Clustering"
      ]
    },
    {
      "cell_type": "code",
      "metadata": {
        "colab": {
          "base_uri": "https://localhost:8080/"
        },
        "id": "sWnoeFB2I_CJ",
        "outputId": "c8f00107-7fa9-4943-92c6-eaf0dc7c657a"
      },
      "source": [
        "# connectivity matrix for structured Ward\n",
        "connectivity = kneighbors_graph(X_train, n_neighbors= n_clusters, include_self=False)\n",
        "# make connectivity symmetric\n",
        "connectivity = 0.5 * (connectivity + connectivity.T)\n",
        "aggm = cluster.AgglomerativeClustering(\n",
        "        n_clusters= n_clusters, linkage='ward',\n",
        "        connectivity=connectivity)\n",
        "y_labels_train = TrainingPrediction(aggm, X_train)\n",
        "MetricCalculations('Agglomerative', X_train, y_labels_train)\n",
        "print('Unique labels: ', np.unique(y_labels_train))"
      ],
      "execution_count": 14,
      "outputs": [
        {
          "output_type": "stream",
          "name": "stdout",
          "text": [
            "Agglomerative  Calinski-Harabasz Index  118.7656211539703\n",
            "Agglomerative  Davies-Bouldin Index  1.9298555601860987\n",
            "Agglomerative  Silhouette Coefficient  0.0831567912182588\n",
            "Unique labels:  [0 1 2 3 4]\n"
          ]
        }
      ]
    },
    {
      "cell_type": "markdown",
      "metadata": {
        "id": "f-h3biLRKxso"
      },
      "source": [
        "# Spectral Clustering"
      ]
    },
    {
      "cell_type": "code",
      "metadata": {
        "colab": {
          "base_uri": "https://localhost:8080/"
        },
        "id": "9IBHaTkNK0bm",
        "outputId": "742bad60-340f-477a-b570-8fc1eea945bd"
      },
      "source": [
        "spectral = cluster.SpectralClustering(\n",
        "        n_clusters= n_clusters, eigen_solver='arpack',\n",
        "        affinity=\"nearest_neighbors\")\n",
        "y_labels_train = TrainingPrediction(spectral, X_train)\n",
        "MetricCalculations('Spectral', X_train, y_labels_train)\n",
        "print('Unique labels: ', np.unique(y_labels_train))"
      ],
      "execution_count": 15,
      "outputs": [
        {
          "output_type": "stream",
          "name": "stdout",
          "text": [
            "Spectral  Calinski-Harabasz Index  134.09336324723947\n",
            "Spectral  Davies-Bouldin Index  1.7416647765689697\n",
            "Spectral  Silhouette Coefficient  0.1074413887799469\n",
            "Unique labels:  [0 1 2 3 4]\n"
          ]
        }
      ]
    },
    {
      "cell_type": "markdown",
      "metadata": {
        "id": "W_nCpQH1LZY4"
      },
      "source": [
        "# Optics Clustering"
      ]
    },
    {
      "cell_type": "code",
      "metadata": {
        "colab": {
          "base_uri": "https://localhost:8080/"
        },
        "id": "W9df5Uc_LdOd",
        "outputId": "22b523ba-0638-4c99-80a0-7b614c174508"
      },
      "source": [
        "optics = cluster.OPTICS(min_samples=20,\n",
        "                            xi=0.035,\n",
        "                            min_cluster_size=0.2)\n",
        "y_labels_train = TrainingPrediction(optics, X_train)\n",
        "MetricCalculations('Optics', X_train, y_labels_train)\n",
        "print('Unique labels: ', np.unique(y_labels_train))"
      ],
      "execution_count": 16,
      "outputs": [
        {
          "output_type": "stream",
          "name": "stdout",
          "text": [
            "Optics  Calinski-Harabasz Index  106.50812561019927\n",
            "Optics  Davies-Bouldin Index  1.57852220188383\n",
            "Optics  Silhouette Coefficient  0.5366839957841985\n",
            "Unique labels:  [-1  0]\n"
          ]
        }
      ]
    },
    {
      "cell_type": "markdown",
      "metadata": {
        "id": "TF1oXyUqROT_"
      },
      "source": [
        "# Birch Clustering"
      ]
    },
    {
      "cell_type": "code",
      "metadata": {
        "colab": {
          "base_uri": "https://localhost:8080/"
        },
        "id": "zW1llxz0RRsq",
        "outputId": "f976c489-61b3-48ea-e31f-f205c5f30696"
      },
      "source": [
        "birch = cluster.Birch(n_clusters=n_clusters)\n",
        "y_labels_train = TrainingPrediction(birch, X_train)\n",
        "MetricCalculations('Birch', X_train, y_labels_train)\n",
        "print('Unique labels: ', np.unique(y_labels_train))"
      ],
      "execution_count": 17,
      "outputs": [
        {
          "output_type": "stream",
          "name": "stdout",
          "text": [
            "Birch  Calinski-Harabasz Index  118.12396590429343\n",
            "Birch  Davies-Bouldin Index  1.893083314635995\n",
            "Birch  Silhouette Coefficient  0.10325812944927776\n",
            "Unique labels:  [0 1 2 3 4]\n"
          ]
        }
      ]
    },
    {
      "cell_type": "markdown",
      "metadata": {
        "id": "x4t41ADna2GG"
      },
      "source": [
        "# Gaussian Mixture Clustering"
      ]
    },
    {
      "cell_type": "code",
      "metadata": {
        "colab": {
          "base_uri": "https://localhost:8080/"
        },
        "id": "QC_kyfOAUhXT",
        "outputId": "6e866f6a-6395-4713-9df9-f2b3f8f8afc1"
      },
      "source": [
        "gmm = GaussianMixture(\n",
        "        n_components=n_clusters, covariance_type='full')\n",
        "y_labels_train = TrainingPrediction(gmm, X_train)\n",
        "MetricCalculations('Gaussian Mixture', X_train, y_labels_train)\n",
        "print('Unique labels: ', np.unique(y_labels_train))"
      ],
      "execution_count": 18,
      "outputs": [
        {
          "output_type": "stream",
          "name": "stdout",
          "text": [
            "Gaussian Mixture  Calinski-Harabasz Index  124.26470869213902\n",
            "Gaussian Mixture  Davies-Bouldin Index  2.0077792370194727\n",
            "Gaussian Mixture  Silhouette Coefficient  0.10053506711318062\n",
            "Unique labels:  [0 1 2 3 4]\n"
          ]
        }
      ]
    },
    {
      "cell_type": "markdown",
      "metadata": {
        "id": "05LmLswKOf-6"
      },
      "source": [
        "# Predicting cluster labels for test data using K-Means"
      ]
    },
    {
      "cell_type": "code",
      "metadata": {
        "id": "j5NB1rQ2kR0o",
        "colab": {
          "base_uri": "https://localhost:8080/"
        },
        "outputId": "7a2200b1-9874-4d67-d877-30bad4cc01af"
      },
      "source": [
        "y_labels_test = kmeans.predict(X_test)\n",
        "training_data['clusterPreds']= y_labels_train\n",
        "test_data['clusterPreds']= y_labels_test\n",
        "print('Unique labels: ', np.unique(y_labels_test))"
      ],
      "execution_count": 19,
      "outputs": [
        {
          "output_type": "stream",
          "name": "stdout",
          "text": [
            "Unique labels:  [0 1 4]\n"
          ]
        }
      ]
    },
    {
      "cell_type": "markdown",
      "metadata": {
        "id": "yNS-AfFHniee"
      },
      "source": [
        "# Memory-based collaborative filtering Recommendation system"
      ]
    },
    {
      "cell_type": "code",
      "metadata": {
        "colab": {
          "base_uri": "https://localhost:8080/"
        },
        "id": "ONlsilx5lY0B",
        "outputId": "294cfc9b-3d2f-4ebe-a40c-a691e3c996fb"
      },
      "source": [
        "def GetRecommendedEssay(row):\n",
        "  test_overall_score = row['overall_score']\n",
        "  clusterNumber = row['clusterPreds']\n",
        "  referenceData = training_data.loc[training_data['clusterPreds'] == clusterNumber]\n",
        "  processedRefData = referenceData.loc[referenceData['overall_score'].isin([test_overall_score + 1,test_overall_score + 2])]\n",
        "  # Recommendaing 5 essays\n",
        "  return processedRefData.sample(n = 5)\n",
        "\n",
        "for index, row in test_data.iterrows():\n",
        "  print('test doc: ', row.doc_id)\n",
        "  recommendations = GetRecommendedEssay(row)\n",
        "  print(recommendations[['doc_id', 'overall_score','clusterPreds']])\n",
        "  break"
      ],
      "execution_count": 21,
      "outputs": [
        {
          "output_type": "stream",
          "name": "stdout",
          "text": [
            "test doc:  doc2797.txt\n",
            "           doc_id  overall_score  clusterPreds\n",
            "602   doc2361.txt             31             4\n",
            "500   doc2155.txt             32             4\n",
            "1120   doc954.txt             31             4\n",
            "487    doc213.txt             32             4\n",
            "1108   doc937.txt             31             4\n"
          ]
        }
      ]
    },
    {
      "cell_type": "markdown",
      "metadata": {
        "id": "iwqlnHtTPOKj"
      },
      "source": [
        "# Plotting K-Means clusters"
      ]
    },
    {
      "cell_type": "code",
      "metadata": {
        "id": "Fihva91KQYNh"
      },
      "source": [
        "X_train = training_data.iloc[:, 4:]\n",
        "Y_train = training_data.iloc[:, 2]"
      ],
      "execution_count": null,
      "outputs": []
    },
    {
      "cell_type": "code",
      "metadata": {
        "id": "nVYFJA_RQhR9"
      },
      "source": [
        "X_train = pd.DataFrame(pca.fit_transform(sc.fit_transform(X_train)))"
      ],
      "execution_count": null,
      "outputs": []
    },
    {
      "cell_type": "code",
      "metadata": {
        "id": "ETAC_HzdRAII"
      },
      "source": [
        "kmeans = cluster.KMeans(n_clusters = 5)\n",
        "kmeans.fit(X_train)\n",
        "clusters = kmeans.predict(X_train)\n",
        "X_train[\"Cluster\"] = clusters"
      ],
      "execution_count": null,
      "outputs": []
    },
    {
      "cell_type": "code",
      "metadata": {
        "id": "f2rIkCGlRl9F"
      },
      "source": [
        "# Using PCA to reduce to two dimensions\n",
        "pca_2d = PCA(n_components=2)\n",
        "PCs_2d = pd.DataFrame(pca_2d.fit_transform(X_train.drop([\"Cluster\"], axis=1)))\n",
        "PCs_2d.columns = [\"PC1_2d\", \"PC2_2d\"]\n",
        "X_train = pd.concat([X_train,PCs_2d], axis=1, join='inner')"
      ],
      "execution_count": null,
      "outputs": []
    },
    {
      "cell_type": "code",
      "metadata": {
        "id": "hH_3Kh20SWc2"
      },
      "source": [
        "cluster0 = X_train[X_train[\"Cluster\"] == 0]\n",
        "cluster1 = X_train[X_train[\"Cluster\"] == 1]\n",
        "cluster2 = X_train[X_train[\"Cluster\"] == 2]\n",
        "cluster3 = X_train[X_train[\"Cluster\"] == 3]\n",
        "cluster4 = X_train[X_train[\"Cluster\"] == 4]"
      ],
      "execution_count": null,
      "outputs": []
    },
    {
      "cell_type": "code",
      "metadata": {
        "colab": {
          "base_uri": "https://localhost:8080/",
          "height": 542
        },
        "id": "_ZlNbNRzTIOW",
        "outputId": "cbfc4680-b946-4de3-b75c-df76b60ff7d8"
      },
      "source": [
        "#trace1 is for 'Cluster 0'\n",
        "trace1 = go.Scatter(\n",
        "                    x = cluster0[\"PC1_2d\"],\n",
        "                    y = cluster0[\"PC2_2d\"],\n",
        "                    mode = \"markers\",\n",
        "                    name = \"Cluster 0\",\n",
        "                    marker = dict(color = 'rgba(255, 128, 255, 0.8)'),\n",
        "                    text = None)\n",
        "\n",
        "#trace2 is for 'Cluster 1'\n",
        "trace2 = go.Scatter(\n",
        "                    x = cluster1[\"PC1_2d\"],\n",
        "                    y = cluster1[\"PC2_2d\"],\n",
        "                    mode = \"markers\",\n",
        "                    name = \"Cluster 1\",\n",
        "                    marker = dict(color = 'rgba(255, 128, 2, 0.8)'),\n",
        "                    text = None)\n",
        "\n",
        "#trace3 is for 'Cluster 2'\n",
        "trace3 = go.Scatter(\n",
        "                    x = cluster2[\"PC1_2d\"],\n",
        "                    y = cluster2[\"PC2_2d\"],\n",
        "                    mode = \"markers\",\n",
        "                    name = \"Cluster 2\",\n",
        "                    marker = dict(color = 'rgba(0, 255, 200, 0.8)'),\n",
        "                    text = None)\n",
        "#trace4 is for 'Cluster 3'\n",
        "trace4 = go.Scatter(\n",
        "                    x = cluster2[\"PC1_2d\"],\n",
        "                    y = cluster2[\"PC2_2d\"],\n",
        "                    mode = \"markers\",\n",
        "                    name = \"Cluster 3\",\n",
        "                    marker = dict(color = 'rgba(0, 245, 100, 0.8)'),\n",
        "                    text = None)\n",
        "#trace5 is for 'Cluster 4'\n",
        "trace5 = go.Scatter(\n",
        "                    x = cluster2[\"PC1_2d\"],\n",
        "                    y = cluster2[\"PC2_2d\"],\n",
        "                    mode = \"markers\",\n",
        "                    name = \"Cluster 4\",\n",
        "                    marker = dict(color = 'rgba(0, 150, 200, 0.8)'),\n",
        "                    text = None)\n",
        "\n",
        "data = [trace1, trace2, trace3, trace4, trace5]\n",
        "\n",
        "title = \"Visualizing Clusters in Two Dimensions Using PCA\"\n",
        "\n",
        "layout = dict(title = title,\n",
        "              xaxis= dict(title= 'Principal Component 1',ticklen= 5,zeroline= False),\n",
        "              yaxis= dict(title= 'Principal Component 2',ticklen= 5,zeroline= False)\n",
        "             )\n",
        "\n",
        "fig = dict(data = data, layout = layout)\n",
        "\n",
        "iplot(fig)"
      ],
      "execution_count": null,
      "outputs": [
        {
          "output_type": "display_data",
          "data": {
            "text/html": [
              "<html>\n",
              "<head><meta charset=\"utf-8\" /></head>\n",
              "<body>\n",
              "    <div>\n",
              "            <script src=\"https://cdnjs.cloudflare.com/ajax/libs/mathjax/2.7.5/MathJax.js?config=TeX-AMS-MML_SVG\"></script><script type=\"text/javascript\">if (window.MathJax) {MathJax.Hub.Config({SVG: {font: \"STIX-Web\"}});}</script>\n",
              "                <script type=\"text/javascript\">window.PlotlyConfig = {MathJaxConfig: 'local'};</script>\n",
              "        <script src=\"https://cdn.plot.ly/plotly-latest.min.js\"></script>    \n",
              "            <div id=\"4dc5d5de-d062-4125-867e-3b3b3a463598\" class=\"plotly-graph-div\" style=\"height:525px; width:100%;\"></div>\n",
              "            <script type=\"text/javascript\">\n",
              "                \n",
              "                    window.PLOTLYENV=window.PLOTLYENV || {};\n",
              "                    \n",
              "                if (document.getElementById(\"4dc5d5de-d062-4125-867e-3b3b3a463598\")) {\n",
              "                    Plotly.newPlot(\n",
              "                        '4dc5d5de-d062-4125-867e-3b3b3a463598',\n",
              "                        [{\"marker\": {\"color\": \"rgba(255, 128, 255, 0.8)\"}, \"mode\": \"markers\", \"name\": \"Cluster 0\", \"type\": \"scatter\", \"x\": [7.231275699015825, 5.830555561027364, 1.712673085688636, 8.931615271534486, 1.0235994382014983, 2.0019911049734143, 1.0683007411590955, 4.953025232209325, 0.4201355926033746, 0.8727225423460097, 5.213418884385352, 4.857193966467179, 2.706822995833461, 2.9818942944041953, 2.772764931168857, 4.857686785774166, 2.9851767533260496, 2.0772583442622126, 1.412866571209543, 4.425026739057091, 0.9283355919020718, 0.6287802786870678, 3.3353081948406245, 7.785717066222946, 3.086755645355982, 0.2215259196933706, 2.725447372274642, 2.100771667563857, 8.114340606730746, 3.0727620636636073, 0.5285382285535332, 3.245959205157954, 0.77526295215067, 2.482226045189597, 4.702628401024273, 1.4443760806713817, 4.867986391996451, 3.6082178878198605, 2.276660358093291, 2.7178969667068915, 4.541544243567225, 2.9057471617183293, 4.974318350796128, 1.1168600909206252, 5.486403567922218, 1.1075479275407345, 2.22523989988426, 2.889878863772069, 2.4439425765577534, 3.6080534188180695, 3.551221669081798, 8.783106168012532, 3.559099801678292, 0.14711510484925905, 5.219376791933983, 8.30641210357561, 4.1404180170983045, 5.061047867699461, 7.097918772233089, 2.5503253965850203, 4.125803855201837, 1.3393485327593224, 2.131137646875891, 0.18415881127302758, 1.3950990278731086, 6.536788037607141, 4.124497324065287, 4.803734070733757, 1.3704753147879414, 2.4170766086044364, 5.878966428063682, 4.745807088053567, 8.696729725593189, 5.8072142674773515, 4.884075988105649, 5.6821177623775645, 6.987497091837763, 1.8987950048537512, 7.258551211514689, 2.131956386295476, 0.6395986982917685, 4.770408584223786, 1.9961310297694872, 0.5424963932754057, 1.8691287921465811, 3.8875503066794868, 0.6619228232947051, 8.001488004661674, 1.0601873124894845, 0.9160809161349873, 3.1313878060357836, 5.132037210813509, 0.24979271979662007, 8.275922099312718, 3.413228121181751, 0.5363243867338845, 1.9470097000120965, 2.512088180386991, 5.18190122357145, 1.680530135149729, 6.05579007047022, 1.74210885630731, 1.8823653695016034, 1.0443267015268178, 5.038747114150725, 0.7125825752855404, 2.441450093944488, 6.185354293328403, 2.791567147067076, 2.6769525803144156, 2.293125756044729, 3.8202790966857996, 0.47600920353451825, 2.303645095867724, 2.391158410494241, 3.960195276949775, 4.347736993681183, 1.8533228954985372, 4.911841185844508, 1.2092990042815137, 5.120210790839192, 7.2000722552143674, 4.6949485671864055, 1.8628240693821565, 7.127276705558677, 0.9391026308353472, 6.174131825965441, 0.4898073202210111, 5.554640198545899, 8.353734442821057, 5.388649429662928, 5.017853380129348, 3.4306805158651135, 0.993017365761162, 6.227615596935723, 5.582319030640354, 6.12648688937724, 2.8056290594828113, 2.6141515914003244, 3.2388307262223615, 1.8080657197099332, 2.5975655546648384, 0.7613329276431128, 2.354223629180066, 3.9443973611225163, 4.154555040071216, 3.3442927762224337, 1.8391653304799767, 3.1485272892381313, 1.9559407192727185, 1.5348409309350757, 5.467518686441481, 0.7096947587344986, 1.7613214521691158, 1.4008676977587848, 1.781239571600958, 1.1894915648443338, 3.607888576153358, 2.261239762316354, 1.1272843092880789, 0.3125014548303167, 3.069156968139783, 8.9610832913004, 2.288076210580252, 0.16052084555466342, 0.4265285528824243, 4.10654543552375, 6.831697282251383, 0.21460058417006322, 3.6651952810779735, 1.2743639485882077, 0.38147305808235754, 5.067595924101213, 2.596870714117167, 0.6816265350929881, 6.893271106474083, 2.644994965017507, 0.8832472292569995, 4.608458403416371, 3.9245751022617203, 1.0948415761273906, 1.3551182713082748, 4.090291220903684, 3.9459672048070544, 1.7473436001286486, 4.0815288426389635, 3.0078983108348925, 2.5552069867422467, 1.2702456310666685, 2.487979848571105, 0.6202902700481682, 2.1937723897990615, 2.3101591432175623, -0.23635432874181184, 2.171656303909331, 6.000653264736282, 4.045355291498202, 1.2400484047374527, 1.3895499693858206, 4.6244938663597015, 3.621702060433214, 2.7956278167967294, 3.8438866419152595, 3.057698184192354, 1.8545686206064096, 3.060069446529367, 1.3405167409176295, -0.29165015342671463, 3.641715208336834, 4.447559586293047, 6.164242378592934, 8.286295480036959, 7.935079152896691, 3.4026762724423354, 6.02062296272236, 8.058560451746668, 2.606794090507274, 5.243783928236896, 1.3905134925431957, 8.779464765514575, 3.2915856165622914, 1.7111787161273646, 3.0470356767777464, 7.636853245515975, 5.389514159379274, 1.218038424520642, 3.1265242076684525, 3.56458033709705, 4.256503450014708, 1.204954299222485, 2.4700358619952714, 5.0235701486177025, 2.240248269667096, 4.393185052909758, 5.638103702635395, -0.04009924607253322, 0.22505887111486922, 4.962931842873212, 4.3911277576117715, 1.869245942763912, 4.340336007609407, 7.120656804195346, 3.4851448094572866, 5.259489066096561, 5.30006450393454, 4.982119452338145, 3.9036464714364008, 5.091484846068732, 3.6115473635259745, 3.163860466735023, 1.4632816399598048, 0.7977861489960889, 0.49667404086443995, 2.821648318130035, 1.1455589027436865, 0.5538235734039723, 7.644266030792359, 0.9236335804241745, 0.7707138710016751, 0.5509155384836387, 1.907026424701298, 3.5312143294555596, 5.823517017385993, 3.476053066544608, 4.18962624315478, 2.2816700114086195, 0.6697651645375445, 0.4198061031513125, 2.5162072347108158, 4.770324005126001, 5.374302496570849, 1.4053958173249075, 4.6023209545609145, 2.0274787750016725, 1.9898129557435702, 7.636321489287012, 0.33904937241545957, 1.6745219455832145, 9.254089857056563, 1.5997454835219957, 2.338837037873379, 4.09094211801412, 5.283619035689225, 6.64619553175887, 4.086648605875711, 3.6597337764613957, 8.261787428507821, 0.5635388540088286, 5.1682609585190935, 4.34481923350401], \"y\": [-6.3168095363398695, -7.523558175615953, -0.6747910305151806, -0.873043112258352, -6.397428980925757, -1.3919279729195806, -4.129681232743292, 2.0574949913281215, -1.3853832641718486, 0.05319791016713556, -2.02396734510507, -7.683519931180797, -0.18052831475644454, -0.9270899371440278, -3.8789549800698997, 0.5363191972787426, -2.629901535309578, -5.399259839407893, -2.124535081880228, 0.43168175831538264, -4.3688539436506595, -2.0954684698708004, -4.462276869252617, -2.6411242124472336, -0.978153677498154, -0.9942500313018932, 0.4406283576453342, -3.287644516544171, 1.1407896634423083, -1.1205032785191684, -2.404451517344343, -3.079229298335545, -0.4867437941031352, 0.08196530803663553, -2.540604588076022, -0.3441044970834227, -1.2560690429016255, 0.7766338293422269, -3.0449994384711268, 0.8619184439331709, -8.241540823127625, -4.710116456554363, -2.226252003310168, -1.095084066396565, -1.8722897740658166, -4.87246187449525, -2.4844753157062764, -0.48659253471186914, -0.7339101220685786, -0.06334953681250485, -5.749643077525494, 1.0517943508828274, -7.3453416778888405, -2.3912482950514944, -3.192720002372433, 1.8870010538999178, -1.4768003239938958, -0.5673489135647726, -1.0890657091277545, 0.5032247922583433, 0.7936859800557877, -0.8509657770824263, -4.044637494593868, -1.6392643873029467, -3.681017143849914, -3.3028656742945577, -1.5875413518837422, -7.015772860179628, -2.9399608680607767, -1.2377566067601133, -0.011425916543524013, -2.2532844993359773, -4.347649966037578, -1.8777534831549485, -6.062950240161372, 1.0671107246226919, -5.097209080554168, -3.5342602530082923, 0.21213800693916046, -3.416976438058471, -1.2632856800791512, -2.283554695338277, -1.5998149384807678, -2.107875874399218, -0.1711562124922877, -3.037382224477634, -3.5233712598989415, -4.038423885926451, -2.8186181605032443, -2.7791488573551484, -2.6502034771151215, -1.4591792445368603, -8.367556487924206, -3.327480664246315, -2.2994431260738923, -0.9391690680326544, -0.7424774000267543, -2.1782688865325737, -3.9387203862966826, -1.752254327893138, 0.006010984242773473, -2.127471589288019, -0.2690063824993315, -2.8290690233950215, 0.0945116317355131, 0.3144139053179294, -3.9419601149943824, -3.2854565685532693, -4.510420426934213, -0.4885272261346574, 1.2808934834190968, 0.6455013685020552, -1.2696798642539677, -5.943896435884164, -0.40982292933434455, -2.0220141435709706, -4.015706640846662, -0.2658573592956104, -0.8064694630904464, -1.1338966762825788, -1.4132989767916189, -3.68303188985947, 1.1469009235972578, -0.7069841305056059, -3.1950610208821733, -1.268559058958518, -4.271568212621786, -0.01129719863172118, 1.4830114969015649, -5.623749878279469, 0.08639395902482909, 1.2602271421208886, -3.6841430746276056, -2.0812632825448505, 1.2840965650131295, -5.729135161847738, 1.2866935525893262, -1.8774823439202823, 0.8918724558887037, -5.389235718678742, -1.9194445534060158, -5.580851234310512, -1.7113370903494227, -3.9018988935286103, -1.0518801104663251, -5.335810095548613, 0.025662910362197082, 0.3079566030235648, 1.6471332061020938, -1.629880364395772, -2.7938300667649063, -2.091090537368986, -1.9288180638370216, -3.1610588757765523, -4.701303396092931, -0.5637095010402734, -2.047834067506279, -0.7609136242589671, -1.1560069427640194, -2.7686862813500417, -6.2649640903286326, -4.847022586823043, -8.078803054281623, -3.518152105575664, -3.4894485586385158, -2.2476762048358156, -3.2393344438785125, -1.372548837635938, -5.159509847992745, -4.971606169456386, -3.269805003354929, -1.0389175265045365, -1.1503992400159824, 0.6030330905955156, -2.4814027516660406, 0.10212849413729619, -1.629305778631901, -4.483721924388713, -1.930262954181137, -2.2329666338483958, -1.440051921447502, -1.7533989999368857, -1.6048620441383057, -5.5144430763432455, -0.7072829138605446, -2.177659085540413, -4.015829588042415, -1.450507320948462, -0.8141148566104451, -2.907152180113256, -1.0957434320752089, 0.17457881279381862, -3.071621308011015, -3.0155380640253187, 0.29279674435575614, -3.913535838698208, -3.6094967219794762, -2.1463693581100816, -3.345800071867312, -0.4417251320330911, -6.987221249477366, -3.9283121867423723, -4.087819957193995, -2.742834152892685, -5.190220474985567, -7.4840756190624935, -2.9419526622369365, -2.0475354338917313, 0.8488284121212559, -0.3958263705739238, -0.7222450438640228, -11.946646712722805, 2.8541708608354615, -2.2825551132052784, -2.926231803738629, 1.1632706659569185, -2.9519827730413795, -2.342735817828001, -2.952541777146868, -3.5429645047631393, -5.931103380552375, -1.7748351841476553, -0.05678553738623648, -2.836501919085786, -0.9881117187629616, -1.8415885870720408, 0.6042739142075398, 0.2715485459421403, -1.9988430345871464, -1.2274273396237667, -5.409202269904177, 0.04739494286619659, -1.977392357370566, -5.482189632879025, -3.0143595017528204, -3.3666942835496703, -1.1286177685347505, 0.3723319000899113, -5.7389132413803905, 0.9711001954116352, -3.342585722432108, -4.414413836075344, -1.4592479924614303, 0.5784769302682716, -2.9328736310796457, -0.1477926633928694, -2.1442338191653736, -1.7818510955404683, -5.822412440802237, -3.252757647537861, -1.2363295048502716, -3.5493940877918226, -7.726188927073948, 0.11100928034592576, -3.626114769726473, -1.6146900243664801, -0.5818182023125557, -1.7527554640083611, -0.7708638585130557, -1.3106970856077766, -0.42538298765901467, 0.6005153191954715, -6.507904121531926, -0.4918153108286406, -6.939028833477039, -1.76832451558499, -1.5690089460980643, -1.8831000515195493, -2.165588869618459, -0.9648018827893318, -0.5044400264334372, -3.983286795519779, -0.32673206740038, -3.6908419383353146, -3.335041392153936, 0.23239282264128505, -1.9952075619814174, -1.6022423707980415, 1.262271857326341, -1.647540694183157, 0.06057299011888054, -0.9817479013315994, 0.16556792814104535, -3.3917139775152694, -3.3594167000843034, 2.123404584808983, -1.3529536581888573, -0.3711204823850158, 0.32325917677036164, -6.1246495489604404]}, {\"marker\": {\"color\": \"rgba(255, 128, 2, 0.8)\"}, \"mode\": \"markers\", \"name\": \"Cluster 1\", \"type\": \"scatter\", \"x\": [-1.9510495428306986, -6.040092019935983, -0.7510706090379713, -2.861943895219492, -0.5531583452098464, -2.1343038332358124, -4.873196279122627, -2.66049744615346, -3.832643266073537, -5.882050043410894, -0.9921220388044972, -3.632174625297572, -0.8789416780836601, -7.177237763437694, -1.5310386598180292, -2.759990942175244, -2.5087797978938795, -0.8546142736096036, -6.878549967616132, -1.0340495861358279, -1.6118444874922346, -5.244487923406796, -3.3807861773078454, -1.5055418183570313, -2.486692376314508, -6.664549089272475, -2.74291711916321, -3.4147689770983916, -0.23030456775386482, -2.400618167040702, -7.23952753413522, -4.19690367716324, -2.490471977822009, -1.9209850427110449, -1.3322237182243795, -1.2468703796760412, -3.9056356470760596, -6.589366132433049, -4.989205981879099, -5.452707265418119, -4.748005848934578, -2.291608772576975, -3.294247732963129, -1.2599257294570938, -5.231331651876474, -0.6595673713134041, -5.425329965614761, -0.4545407062963722, -0.7829817685497096, -6.636690121996005, -4.6965691885338, -2.6246141199693054, -3.610709983440531, -3.3476542586194364, -3.3598171159621653, -3.374801673294081, -6.323029632131742, -4.318091912580078, -0.6040226429877769, -6.072005472076728, -2.825198128863137, -1.7144553900824004, -1.7421916999708655, -2.8598792456939104, -2.94976360475238, -4.106665227822374, -3.9893372812929884, -0.700204847429983, -4.498719743729474, -4.893718928406408, -1.7588102351100257, -1.7328846276420222, -1.708302157439787, -1.3455928441782958, -1.4263367125785638, -7.879747794453555, -1.3176382984298456, -2.725993448960057, -3.4401386437887225, -4.0498142088063345, -3.7993943326552, -3.7245217101512624, -5.371407319460788, -3.7443623630592646, -2.6911994930898397, -2.05163155975831, -6.4371793993444, -2.160458137342372, -0.943647902379903, -4.236104956302992, -2.436806342689781, -2.709335326400682, -5.687574185526026, -3.7925078685889977, -3.8243212842949887, -2.7013541099508838, -6.636659869911482, -3.6665487835383557, -2.1533758944229517, -3.1468784994810384, -1.3052984711525173, -4.350290880529698, -3.621226957591261, -4.9137762478752744, -2.5304267650122427, -3.5076347417396114, -4.982490494141374, -4.528987330750313, -4.074289294098398, -1.276096500663877, -2.636655472441084, -0.7926473442188524, -3.0220664888398363, -3.9881087087696474, -7.85770539892272, -7.689541312517491, -6.237756701732709, -4.904252168935984, -5.716287176366939, -0.7343913575104289, -5.978738046289166, -1.658538805558738, -5.30335498673606, -3.6828025531530937, -2.8259505108114205, -5.6985102564544565, -2.3811459681042253, -3.66189955066978, -0.9749428368412455, -1.2277870615391877, -3.8589983650057254, -6.006870002352569, -0.8386070500587842, -2.9749673804097054, -3.6704277165604164, -5.861497211980579, -2.7567481549773487, -1.5603177749225963, -1.711278322850074, -4.346071694756473, -0.7025160933155064, -3.730922550782065, -3.4655888679145446, -2.153425231804825, -3.1972671538001833, -3.6725353030660903, -3.7106428843063517, -1.0123165589297982, -7.344389193505335, -0.5932843496323742, -0.9582055881871246, -1.1066906954798343, -2.0955619947752067, -1.993115651623207, -0.2685201502556196, -3.3315222420478703, -5.9805230460354375, -3.2083116527412807, -3.385129747273868, -1.0875024954806094, -2.35578458004721, -4.571474533342798, -6.321101251411776, -5.037917904496913, -1.104442063078854, -1.7068839641576312, -5.316477943286347, -4.78467737941314, -0.6844238800944916, -5.9593763435649985, -0.1919661571206469, -0.345364541536682, -1.2254396023400784, -3.7801433626807697, -5.0791706175867555, -3.0712449866357083, -0.5216778427413764, -1.9062450699502207, -0.4139883438969515, -1.5279316077814211, -4.108683846499311, -2.226576707874563, -3.030117706581581, -3.4747801557236366, -2.874459792822366, -5.064621478790853, -7.393618452439612, -3.4795398887018107, -2.72785094385022, -1.179712882181042, -1.2291459926350243, -3.5750834577634714, -0.9577044256851829, -2.5878947271352724, -3.224439236364095, -2.9059065590155986, -0.7893680876213368, -2.4670215638220108, -3.016356614004022, -2.2042888634993707, -1.6992330145564054, -0.8403716414975546, -1.1854854468905724, -2.720339762123611, -4.451820736022613, -2.442229977278816, -1.3666286851512028, -3.490199056166918, -1.2235757254911674, -0.9079945435447019, -2.5264107597798766, -4.755922368964745, -4.159763049614705, -3.341191581439679, -4.909687220131225, -1.7859301344274527, -0.20120216401268004, -5.642497411769712, -6.200677368723231, -5.732671521796594, -1.0815893592191814, -1.8123738293157887, -0.8491801421582726, -1.6470652424067005, -1.3134566958307492, -2.363168322437394, -1.6698035532521522, -3.797726191786113, -3.692710230867973, -2.9251789219834725, -0.8829473796149379, -3.6466487039480806, -3.8293833610071144, -4.349795454781233, -5.422831992683594, -3.658431229582261, -4.682456647912843, -3.1121334377808005, -6.579907487444653, -1.6542801459717023, -3.4030317344048115, -3.6304272000405895, -5.161344618293288, -2.3181703356904895, -6.822935160911336, -7.575834390107063, -5.833422650630106, -1.2494703040187762, -2.506825229262798, -4.029642521671202, -2.438051424899264, -6.410001519622688, -4.591129603033259, -2.241644577028476, -4.383811385716016, -3.7471393389560705, -6.466462082874574, -1.022601446534684, -4.814837222427556, 0.2082524740004557, -0.3707417996711966, -0.9008864085335464, -6.280143442808908, -0.5657270592378193, -3.1433905962235884, -4.549973145516379, -7.1394536521474885, -4.35346829758263, -2.3137270829664076, -1.8172680832847472, -0.3197155143113458, -6.207511590051921, -3.717277032337311, -5.349651534741151, -1.7228059718535738, -4.714402854458722, -1.943757498720697, -1.4032148688744446, -3.1914554996873035, -4.700718246780942, -1.380630631240938, -5.604442704438753, -2.761514612039645, -1.3018222702055338, -3.849209800110415, -0.6648644721744278, -0.8150958810117295, -1.6374006709550448, -2.0560619560181608, -3.3835469840752954, -0.8125185510574613, -1.7691128596171275, -1.282444172917693, -9.06907421487305, -6.1273209804761875, -5.84018565562266, -0.6381419856344991, -1.6602566416656137, -3.6991370983039618, -0.5977750785547027, -2.5411251736925657, -1.1863644912287694, -4.427153130201546, -3.522190018178083, -6.831427766778625, -3.255097591188314, -4.498756060382456, -5.542027969317304, -1.5451662616085242, -3.4687940723692257, -2.197144886535787, -4.6437185373038234, -3.950165673629196, -2.215423094934168, -2.9959322528964725, -2.6977107178503412, -1.3232149924633625, -8.559071521163684, -3.806494735151168, -4.2501194299857845, -6.766399486544805, -2.4052040943130675, -4.400582813071087, -6.685138658693826, -4.131002999185606, -8.154327897032807, -4.350264476589931, -0.931034602056646, -4.311173640311933, -2.132980822051538, -1.372392230522518, -1.4398842995470729, -3.7282052613849044, -0.1718760683619561, 0.23219352348933828, -4.47528559429744, -6.809325985589999, -2.1921256877948236, -1.1398500528597335, -4.897972431485951, -4.982624135226215, -4.778633631319121, -5.004368563365861, -6.197359190059563, -2.5614923436486547, -1.8148344421807254, -5.4249062049842065, -4.4657779383275225, -4.030441928599866, -4.717487436203226, -0.45178313073245363, -0.13103384646661995, -7.809174942880472, -4.681535520449359, -2.2006710191807053, -7.04924493738123, -3.6973291678150204, -3.6029614882353074, -4.708414009178474, -4.774862613023515, -4.338088215612196, -3.1229593635727424, -3.644573668969744, -5.616034804928889, -2.012691111935249, -8.052131374943597, -5.73075463675098, -0.32928424149646296, -5.951628242683222, -0.49875900838373327, -1.4116351212056002, -5.622030100711189, -2.0255823916360014, -0.31647508367178645, -3.126997235046957, -1.1413169897178999, -3.844722853027865, -4.734777754801794, -3.782353243924301, -5.975426024654227, -2.7998175446550886, -4.813132103850494, -7.474553526153754, -1.3328566772312584, -3.0920026736443846, -3.6040302299773774, -2.4096255837407807, -3.7175682967010633, -7.058951912382082, -3.292086987117622, -1.309879817824051, -5.280091851137733, -3.6516142313272146, -2.6938724674694723, -2.358357529175995, -1.5782717969579358, -1.3804140104889384, -3.4385262691338085, -0.9130754603120141, -5.951905657310251, -5.701431968975841, -2.1620117417026905, 0.0142717023685514, -4.838099911624982, -2.1041703619102066, -6.562224779346645, -3.4503326707371644, -2.0330269920079624, -1.083487920008788, -4.234486675444197, -4.712885732902375, -3.084990117537038, -5.684854972601638], \"y\": [-0.9494671731684972, 1.0236291844673338, -0.5837374696722374, 0.9118210204480278, -1.8096912521165291, -2.143843518744779, 1.559202422159082, 0.3953815552546075, -2.8339808825842123, 0.8320035620156975, -3.5478623662102264, -1.9588883509260866, -0.4959611549137027, -4.346137229402157, -4.6184740715513195, 0.3951719212714586, -4.47802097922696, -3.9516143642787056, 1.8574225594520286, -1.8030853746084594, -0.5096247137627999, 0.9821880608757888, -6.543098623508998, -4.571787817772276, -5.533964792282213, -2.4227061702487407, -2.3016519965571356, -1.0995584471004503, -0.9732749375944166, -0.32189200443409766, -2.74485279015718, -3.124029434219175, -0.22467117235481524, -0.19351752464278296, -6.8527833774204625, -2.1340044072474442, -2.380602127417408, -4.135677748162734, -0.5436082884415714, -1.2199876605015563, -0.1934666740168369, -1.0997676413226625, -1.948112813884047, -0.8054725738279553, -0.45409129237400825, -4.166653423898259, -5.382210716479857, -4.551307134860586, -3.368586204718107, -1.580688383849012, -0.8048601816262977, -4.193494346128492, 0.28147323600582597, -2.9223677711503555, -2.4793719908198, -1.0279128107211055, 0.12070123428860208, -1.1929325901625831, -1.9860271715182072, -2.598765534953041, -0.5052321940706452, -0.8284740123125114, -1.3391632041363604, 0.49676434054538676, -2.1347321659916876, -3.194140968538048, 1.3402341416452934, 0.5726976123043636, -3.4349698047982056, 0.6802919834017037, -0.7629261250648948, -1.1692175338342587, -1.9593301979950708, -0.5194024545098704, -4.937882124195358, -7.131326029958449, -0.11464725820363066, -0.9644913430301921, 0.05168429785843101, 0.06797951921718838, -1.749203676911675, -0.991857933560546, 2.979384198194026, -3.0417202139731008, -2.5868826829455984, -3.153843339942525, 0.074651968593592, 0.28851249161396053, -0.05103134518243308, -1.080167767344897, -2.1552858919551676, -0.3525994301169032, 0.26034756968870126, 0.5338751037020764, -0.3365273902120211, -3.480474349486054, -1.9693267396901775, -3.005647723631969, -4.582594447943764, -1.4326318457410872, -1.0623797199088656, 0.1103470500153003, -4.827055694524426, -2.2912979625310235, -0.7446034906846528, -0.7957250277526926, 0.7975555619232576, -2.6999793169754462, 1.501930469141219, -1.1217186076997048, -1.260990232303653, -2.453652647667266, -1.5793000996483455, 0.479117686398356, -4.193870520099479, -1.3848507499298774, -2.1754174502179917, -2.6389154947262328, 0.014049233480302127, -0.024433169983291612, -3.3893299811736526, -1.6061553569184122, -0.8804420293865725, -0.8009453238720564, -0.809462990610738, -2.063806398084596, -7.3505902988103315, -0.9254286345147498, -1.3829452104982705, -0.9228190494558145, -3.3952080840414287, -5.427368042787293, -3.2132145286016547, -1.5162579880074447, 0.9257173291466709, 2.3505589245869807, -1.526150824847643, 0.039549794388257294, -1.5367279592250056, 0.5695191298671859, -4.351815499006724, -0.1450589925787996, 0.8385229215653657, -0.5593758978155167, 0.2476495448940942, -5.137422802308647, 0.7177286421528516, -0.6405130624922462, 1.3850297376948904, -4.851907902612989, -1.7071227184426805, -1.4490587981872494, -2.7701060796174923, -0.026847231320842813, -1.2586296808859287, 1.5564557804632773, -4.419702039518465, 0.8148632699408026, -4.129705581098789, -2.1419386469285757, -3.1478241170856003, 0.041208123538727014, -1.88000193428981, -1.1107075171845227, -2.188960527645889, -3.593226236531958, 0.5832062782950832, -2.9961281544382268, -4.478996949834496, -1.400403152296966, -2.23361732694853, -1.3766368383621508, 0.5013618240265428, -2.549429239705143, 1.1953726457004352, -1.5266871935653052, -1.6446841219428388, 1.2130161875166552, -0.9021228616225853, -2.498736211838102, -1.901295197504035, -1.0395638175670912, -1.5320548304468569, -3.161975636694113, -2.138817588088904, 1.9366618379399658, -1.806521647660455, -4.0608117118373634, -3.1619488883781375, -0.16425089804781232, -1.8872862739216405, -2.5787211985190037, -0.5197065363730992, 0.7724878789358904, -4.875537978786772, 0.399390793262779, -0.05289972146879017, -0.8281100329400927, -3.4210916296700247, -1.0365812252596538, -3.6430463376327884, -1.6661105075635907, -3.337062281652635, -0.5208406452982918, -2.1810765933481138, -3.2414071521312575, -1.9593564193486241, 0.08768821583874065, -1.2484875470156926, -4.2545021582054146, -4.861435628592428, 0.24994699207455554, 1.544999376921832, 0.9691627031012892, -0.10419549306851288, -0.3755142887588463, -0.9870970217777973, 0.1863899051297348, 1.748274119264909, -1.3545086612556947, -0.8152606472544811, -2.489640679408896, -3.4554203296514636, -0.7977607443903867, -0.9694360190639113, -0.1686596421466647, -0.8380885980647569, -1.3409533250326713, 0.6797946788377164, -2.7383237403931773, -0.19795201612877467, -0.5734771442010256, -0.7419703507580727, 0.002945771603272453, 1.2078989487682563, -0.24796786742791682, -3.397067749465698, 0.5368699133117074, -1.3791436520857627, 2.307939366046614, -0.164363645438733, 1.0120563728616487, -2.2667898574134893, -3.137932338890196, -1.0565561019178533, -1.089621362843732, 0.7419014558109664, -1.0171517398288759, -1.7195285419747406, -1.692109110384596, -3.0508281544452243, -4.1913271962667045, 1.0348703200131326, -2.375991825543191, 0.7062136149663674, 0.6383107038875794, 1.262474020765279, -1.8846287843866836, -6.115566435757048, -1.661640910600073, -2.892410463664035, -0.4174011563760134, 0.8309127715959124, -1.6942567334694325, -4.007103282955603, -3.884072958424308, -2.9491704608326597, -1.7353201094889166, -0.05275895225507214, -0.21895735356071894, -1.7118126727342642, -0.46773846222015864, -7.091531360880778, -0.1575903281088422, -1.503851373623256, 0.0801669936301144, 0.33779449996071864, -0.5526865312265709, -1.0879951729230968, -2.179197575774435, -0.5629246951890641, 0.704547996365349, -2.745937072408905, -2.4835016784926576, -1.8383997247498909, -4.380319315586027, -1.6731234837324835, -3.3184012148324555, -0.25832875157475127, 1.919289264438994, -0.7009575607028237, -0.15165241707884314, -1.5460921713988371, -4.242530611398799, 1.9168355433677364, 0.9618214336438766, -1.561014056190894, -1.2456942302752736, -1.5191356673558174, -1.3512926537737593, 0.4331349324389672, 1.208151869193981, -3.8580570791867923, -2.43306783741682, -1.0670134772154654, -3.748790226444784, 0.8510509432465205, -2.9828241057525773, -4.672741418261772, -0.11346637565210095, -1.2025930537207825, -1.2673222929204662, -2.3628120455855144, -0.4099068735288359, -0.13904705295650696, -2.4379656586336553, -1.2855553405825941, -1.4588438947933495, -4.556383580599683, 0.5065080069634618, -0.5590877808417601, 1.8714044880954122, -0.5760445425598236, -2.379305061173944, 0.9507008515703612, 0.9801088407183185, 0.37728539988307025, -2.10980165397932, 1.647840377634487, -0.7269294405767838, -1.948654372284764, -1.9683833602529668, -0.8057358192979901, -4.339874399637219, -2.2821159211315356, 1.2349949362618384, -3.5800044993981, 0.5348501762160859, 0.27463630087984736, 1.456176623614158, -3.53316439546973, -3.5672611742542153, 0.6469335139211211, -3.423861712206585, 0.4114897463141508, -3.763656558968186, -0.6825720371350019, -1.1689533244017372, 1.2958316765152673, -2.6006316925486095, -0.5365652650017388, -3.0435100399653012, -2.3591084919345886, 0.6114011356998105, -1.3862745180726004, -2.6504370078015183, -0.8201572876935233, 1.0800853162288802, -1.4684998572761536, 1.143805178994529, -4.046364056549096, -1.684196900392763, -3.5213437524949436, 0.6133052923503711, -3.0018226435716975, -2.3161235806706566, 2.495551599091149, -2.3243864454399237, 1.5853477842529815, -2.983289011289105, -1.5088929058363647, 0.654489453532844, 1.429036222241372, -2.987297338910977, -2.1514185983633483, -2.088954064261791, -1.6614823763984554, -4.025327977843285, 1.1881480745771227, -1.8769418458709846, -0.23157226730824568, -0.8383000026200604, -4.234666400446848, -0.29957555414788367, 1.200435124983748, -2.5375714728287724, -2.2721512935529167, -0.11730722366694415, 0.32990319140477037, 0.39914983314251884, -0.17838795689839035, -3.7709632875198325, -0.8631094781494862, -2.2052525144610517, -4.154263799311251, -1.0127143556096438, -4.929849934167258, -0.5794864697093889, -0.623133711208231, 0.600206997536909, -4.100723075044133, 0.10553358607680988, -0.2607383277864504, -0.5589504337490424, -0.03181509101032621, 1.406901087566649, -2.150737772866256, 0.5738764078049793, -2.4445129085775754, -1.4204834059155784, 1.849970075632966, -4.315633505944568, -3.62929633025571]}, {\"marker\": {\"color\": \"rgba(0, 255, 200, 0.8)\"}, \"mode\": \"markers\", \"name\": \"Cluster 2\", \"type\": \"scatter\", \"x\": [-1.2000559843430845, -2.1519724157646603, -0.16004685063301738, -0.3522859879535492, -2.676143393762327, -0.9565916756752548, 5.009653625922803, 0.5595169733792015, 2.611611995956481, 1.57239194100615, -4.16660632224375, -0.28209061631486937, 2.5279106823196327, -1.542597580714136, 0.914396597991329, -0.21782276356772354, -0.3254969767197367, -0.91829249451462, -2.2804882028901803, 1.6549119465402737, -2.2951229908094946, 3.124874117739486, -4.207581461367198, -2.480075914067553, 0.1453278811586212, -0.6562004515522175, -2.2740330741454677, -1.0268021208753793, -4.014169855315276, -3.3357331027772994, 3.1330267318534655, -0.43751980868498586, -0.7975840694347625, 1.2189645796064947, -0.3715432812975452, -0.5964020350652156, 0.13057157433371966, 2.2137658639491384, 0.4499122376562101, -1.6161140477744482, 0.039491615235946215, -0.38121482405408696, 0.7498563175905271, -0.9854797383731941, 1.7303014255645506, -3.7482030180472834, -0.44970862654179444, -1.2410251742883323, 1.4512329285066896, 0.2906950073394726, 3.8265772493016748, 1.8994236246449085, -1.026629418772058, -0.678452512376538, -1.2336317226488005, -3.7379516428586754, 3.7486337451085086, -3.9463769733088343, -1.7965179907661522, -1.5220854512693283, -1.8217344721196385, -1.0043718691043653, -0.580907633758558, -1.8693280582316167, -0.4969283212662057, -2.0301348354710056, -3.160502879398238, -3.539503046161503, -0.8173479108895301, 2.987165782038442, -2.838772764700852, 2.78138535548412, -3.2417989969522756, -3.000295885802417, 1.686608848555661, -1.8553465626913452, -2.718585990617446, -0.2945611804110893, 6.616284714716736, -5.56917656738464, -1.5648374119202444, -0.9236897102004307, -0.4395605020093647, 2.4167875141102715, -3.679631216663147, 1.116333717278966, 4.99063645549292, -2.0721768521508523, -2.8228472097157056, 1.0297968928299777, 0.9827356323193787, -0.6353432854160709, -5.329185916088092, -0.0027521684192399957, 2.7701825876428843, 0.0768860279730857, -1.7805823779295593, -0.592092260712638, -0.48026420391114044, 0.9733274332795516, 0.8554209686883126, 0.5448631632722613, 0.21726376639750491, -0.055468036231549514, -1.5790382229088857, 2.8701503769783483, 0.49866649076737846, 1.1768583824695182, -0.747664650506408, 0.6099912070731829, -2.955304140797641, 1.4349979106139046, -2.619199429154331, -0.3208073551795862, -3.6629042843736475, -1.3365178787325276, 0.7158143999947493, 1.6270585695977924, 1.148474213236349, 2.879263167842249, -3.076376147961743, 2.012591218580803, 2.2000846492809756, -0.10662557977281217, 5.430018282017332, 4.555661523906238, -2.568783220058525, -2.0118944239045886, -1.6356764197770894, -3.3364846376859996, 0.26968661215728507, -0.33967843773124756, 0.7135044789502079, -2.2470666318692696, -4.104690301528163, 3.490902663202024, 3.539781149085489, -0.35161952541783653, -0.7401997110086783, -1.8888997936887901, -1.2291872542830826, -1.092148259040087, -2.3334575956282153, -0.010238167347066798, -0.14347449513417834, -4.904975951116829, -3.3644373169124573, 4.604556557893301, -1.7047107955945635, 2.8749891746019887, -2.833294337657309, -0.8377281844659911, 0.9242026357702002, -2.653764763042709, -0.43291809588073216, -2.325747681368505, -3.7631829995660406, -2.484676583915044, -1.1311392880691251, -4.348856366950825, -0.9186807830656698, 3.966537073943331, 0.28851771794417486, -1.9789916281168096, -0.23953436190708308, -0.0807035500895718, -0.10781065052519506, -3.068229033925567, 1.131315245690535, 2.227122380049668, -2.6597542535311445, -1.8962992948793376, 2.7704903893022585, 1.1149890917209968, -1.873472387900861, -0.207403940421805, -4.0392352605433235, -0.5716381720892025, 2.0679379662610224, -3.242579540646865, -3.732110639008873, -0.7885136315456339, -0.09532136682311551, -2.3852711879360955, 2.502053643517362, 0.3987950688315887, 1.1114631979766065, 2.652676548682815, -1.1487309640887202, 0.06311539323709903, 2.364580450054362, -3.10932753551683, -1.5297911346013588, -4.148062201612474, 3.029575253941261, 0.9519143867831371, -2.1990035329463478, -1.2933003793495534, -0.38225806834871023, 0.895314315199086, 0.44963199181012, -1.6164452144719366, -1.125397355402835, -1.3567080434411969, 2.9365488900182837, -0.26839515688034904, -0.6689538963500505, 1.8600834725238782, 2.180279198350146, -0.6288073398342473, 2.594781840568058, 0.3296753880190737, 0.5568786850366115, -2.7215663587326553, -0.07683078553876362, -0.9021281197867631, -0.08452930328665179, -4.942541788249306, -3.4526754510320834, -2.9035946858538724, 4.3037269161119225, -0.22705786731079286, -0.9890894079039575, 1.2659850253803662, 0.22455979793599515, 2.229844247519021, -0.14658407743133897, -2.7423251342543797, -1.3627621907771783, -1.1916167201822503, 4.236753504994749, -1.348944221005156, 3.2679612392949897, -0.22796725483893324, 2.954114524132464, 1.688795270632696, 2.3439319559999925, -2.832069714888789, 2.841710386771273, -1.4687058131865594, -3.821740026024438, 4.4038272145511295, 0.5982019085818924, 0.6963754656894721, 1.4212270470119994, -1.6774439774301386, -1.672271475066064, -0.2520613703404171, 0.5325067262266081, -1.877291538731998, 0.2789792099185685, -2.1115972766996176, -1.020171670863507, 2.4586820046714672, -0.885064617829455, 2.9640219580980522, 0.7822657979073415, 0.8512003207286912, -3.7614556717307153, 0.6213132727010618, -2.311836661155149, -1.0997457832718447, 0.45809698928379183, 1.6036916150113536, 0.49599053831268186, 0.45413843257242015, 3.8325711052041247, -0.5280376383787113, -0.34847066606426697, -0.8553659068569713, -0.40397018304056354, 2.473005165807399, -3.9433878160753855, 3.6413693243551735, 3.1213268550375473, -0.4273559183965761, 3.819021640733508, 1.9749056240686413, 0.014245151327119013, -0.1928390357430327, 1.2893303338984499, -4.346764305808917, 5.012550280582809, -0.9643521750402203, 0.4475753405209699, 2.922619297002045, -0.4640522427572234, 0.9927945831279504, -1.9200116536114427, -1.0685668345698178, -4.307226470014805, -2.8530868658192525, -3.2717299384320655, 1.3537920098245613, -0.5884669080703432, 1.4970356206877544, -1.0589160709300758, -4.279782457756993, -1.7117433853592499, -1.2384209721288066, -2.047143798556984, -1.0223875425762647, 0.267998923356941, 0.7883822549258287, 1.881610736245106, 2.3269349950365417, -1.3473207365310873, -0.45938338703330905, -0.5513790525455171, -1.651591990041209, -0.6949491616636921, -0.3269812456345797, 1.1741303100778686, -1.2529905956936378, -1.7835618710064545, -1.6605803963008794, 0.7892398677199399, 4.758897712671617, 2.215594807655144, -2.1764248232185084, 4.794426025074092, 3.5974554971140673, 1.7184215093028266, -2.1164287477868613, -0.16496737396192068, -0.947283877399373, -0.625783737634175, -0.5888256551994349, -2.9664746700932874, -5.146458939883124, -1.2091560532893104, 1.5853461019332442, 0.5721293233076745, -0.9661456605237125, 0.696264143415671, -0.9793932324504753, 1.4285717992960987, 2.1052726907976296, 2.8618028619493336, 2.8153962690313583, 2.5422034880561384, -1.5447342270239899, 4.275845221779891, -4.365480304296745, -1.3704376654887291, -0.519326329734533, -0.47970078073823874, -5.387136342969827, -0.12053262454538309, 2.601226520024498, -3.4328288279859005, 1.010962886480452, 1.407987600904785, -0.5544395019498187, -0.48228295791585785, 1.7150355590579616, -2.609285183644429, 2.8553666239818742, 2.0471161661076254, -1.4241318033833916, 0.5829785946763233, -0.30953066189546175, -1.110736600827951, 0.6026224835316786, 0.40649304211760845, 1.9612438860939714, -2.7566080768821597, -2.1076764743113765, -2.874924568327875, 4.7222333330769475, 1.6255328320879885, 0.25397293293634854, 0.5976268250688107, -4.245421944191724, 3.4543018162344996, -0.29526166326841935, 1.4244846129148965, -1.0461700425738405, -2.316362164510692, -1.4024384924975297, 3.7991406424883603, -0.7348345278297118, 0.6795027212860172, -3.0485320224235495, -0.24946741020184918, -0.215120688222537, -1.3414994046419784, -0.9045037122181632, -1.1838615584149204, -0.22816723645888876, -2.546870640585297], \"y\": [2.029476354508454, 2.9553470994120734, 3.91020383841106, 2.464445958664203, 1.6998988940211546, 1.0806579429323415, 4.113090296864922, 3.5651852253544725, 3.444626056859948, 4.105313006019773, 1.915108335673017, 1.2344353772153298, 3.370633615422572, 1.5874973302464626, -0.7250785664178254, 0.6649282879292274, 2.538075230734365, 0.04945416076539324, 2.451749880211812, 4.769520407090954, 1.5019578504567732, 2.661552842990263, 1.6138631723635481, 5.850652128517252, 0.7936882516123831, 0.8014786399719324, 6.969201172292412, 3.722089477702715, 3.391541988617864, 2.4976938589985354, 2.124662541637311, 2.7355573501702195, 0.885255991884552, 1.1330327371032556, 0.39729731931380013, 2.1155879432904574, 0.7054472342810107, 2.135278941428354, 1.2483659336801214, 3.635335334740303, 0.5687525924058696, 3.1005390375982507, -0.13036929513840462, 0.9466201149955262, 1.2705262614223238, 3.5839562534206086, 2.7905138419884583, 2.745936766854142, 3.988407973832587, 2.2556224151413073, 2.1939655547605974, 3.489593337911026, 1.271044089388386, 5.0216700738288, 0.880371740822197, 3.7958812905456973, 1.036240436286519, 4.226979613252497, 3.4795032674444197, 0.9534423077383405, 4.145800433810084, 2.7263555057383995, 0.471389725773387, 2.824293486904164, -1.037243299441397, 3.0232600404583585, 4.285357561797128, 1.597550788838613, 3.538280271848775, 4.18695159341911, 3.219629572087952, 2.3016899255413894, 3.599142729080587, 2.165348555776413, 3.7271267595574193, 4.083012878984719, 3.3970470725235455, 4.207226425944241, 6.187826657491058, 4.653636812160106, 1.9334511316694654, 4.794872706904239, 1.9543302057940226, 3.6530864538820564, 1.985429171311605, 0.9379991591452272, 1.7313193001227327, 2.5958376573639477, 1.2531943194132429, 1.1104882978612416, -0.18891869296252417, 6.990799357934257, 5.526969905200081, 2.8850324652363613, 2.156669351632804, 0.008163020942541451, 2.0375008076609142, 6.343056826323014, 1.142929993939954, -0.05247308862934097, 1.4306862793952206, 4.119896845400845, 2.90399444967598, -0.3919809975270043, 2.8248334201251324, 0.7329745600459765, 0.3333095027149772, 2.718025265351794, 5.035065097216027, 2.257083475021522, 1.5682133765321669, 0.3575665396545829, 0.7648633810493661, 1.8140988287262956, 3.996091898098137, 4.245594698246478, 0.5414984751033252, 2.890425356010637, 1.634226802774731, 5.694520099945382, 2.809238182524357, 0.7619956995430507, 3.1317790206884166, 2.6844732283885664, 2.309952219137587, 2.7154530187109414, 1.708382470584619, 1.4830665865263728, 0.4573251081983651, 2.050700667529581, 5.236819266944243, 4.919411804799054, 4.381230048530422, 4.350379237698698, 2.077070300156726, 4.747552771465244, 3.194457998008872, 2.7610396818438567, 1.6194277919335287, 6.34368314290874, 1.784655484634924, 1.1480782845394413, 1.2158207432206993, 1.549719225943239, 4.569772343129147, 2.5228810567924937, 2.562159744745367, 4.441484606044271, 5.617892094345344, 4.746862731532891, 2.3152733200795117, 1.5171733008655337, 1.6067777908693768, 3.9014019677144387, -0.1531632535912234, 1.764083704026458, 6.100930170861705, 7.192506742512449, 1.2322168325888014, 3.9904411049287103, 0.7636384327137131, 3.2606184150719306, 0.8522152812820555, 5.899844366962809, 3.1428592894081144, 1.7065438978940293, -0.017879104458066366, 2.3124099861739063, 1.8933160946191974, 2.3228073313491007, 1.6929692872425828, 2.779016746907506, 3.0260515814925752, 5.777115305896308, 2.929896327934883, 2.456082480001755, 5.220051756507396, 3.8550878255651546, 2.992850806490546, 1.5480040470805458, 3.8634552232171657, 2.799628037829931, 2.165197476880879, 2.87140387345114, 4.608029987689516, 9.503833656874683, 2.934368037387931, 4.8935154456208725, 2.840779342145055, 2.4589135185128503, 1.9464910904352875, 4.5864535734113145, -0.030240846506748437, 3.887614207842007, 4.476918115103041, 4.258815967881601, 3.434898306580869, 2.833341754178389, 0.11788790184152052, 5.250440746721535, -0.14384022573705865, 1.0857914863624767, 0.5089695069665532, 2.099864201084748, 2.3176059294563225, 1.4721465293287281, 1.6423364402060314, 0.28806931951105325, 1.936742801102409, 5.701343464830624, 0.8254097844899858, 5.0913265943850785, 4.351584882955197, 2.0428809879012824, 1.8344810788233856, 4.379635620619253, 0.813465080002812, 2.4745252898733643, 3.2132442415074443, 1.1565544147188513, 4.574135439249385, 3.182096443663972, 4.133769094519302, 6.355676842771144, -0.5316533055603059, 2.4636965847723014, 3.3204409491291935, 2.837296520837052, 2.185660091439305, 2.070692607244426, 3.6339629972366527, 0.025585925856912314, 3.514500205015062, 0.13939745596674646, 2.865182885908668, 2.4503073771976136, 1.2757175044181717, 3.421459726078941, 2.560868863761799, 2.007759393418332, 3.6764924366863605, 4.961025418196115, 1.519826464625623, 3.0064699091898057, 0.44743406595871443, 2.1080907152427284, 4.252372631062658, 4.60177996295143, 4.547030630456633, 1.5694328295410267, 2.58854615574324, 6.0067548968640425, 1.4247677374073748, 1.928880462286642, 2.225988890249976, 1.6207639530826798, 0.011530190754383215, 2.7499547066769168, 2.194042530947313, 1.4382059205874653, 2.771832207590077, 0.8128352350104644, 2.3188711447422543, 3.967533704164154, 2.650013811403814, 3.8127851247417612, 1.6461259430030457, 5.348124006418239, 2.5556328133405577, 4.649101506184073, 3.5404064493441356, 4.31666499567998, 3.460185288317464, 1.9768196008221957, 0.6231127801984528, 3.7274704042945803, 3.4052160454153553, 1.4103872844246352, 1.5795021203039767, 1.7269611431775336, 3.568529510569658, 3.483894976946507, 3.219566449450802, 2.6337925057730986, 3.380447637986637, 1.3757307595289516, -0.29866515820359474, 3.8977811539478373, 0.7381674347916829, 1.7636119795851917, 2.950175779197033, 2.774052767367105, 3.914298489799463, 1.2857131704019886, 0.8192691704003865, 4.161029957772782, 0.6239115556709582, 5.216015011941066, 1.5767385459281866, 6.498246504397463, 5.153643513023084, 2.845491509611873, 0.5170716346793877, 0.00021125400006282455, 2.604729889131336, 0.5426912800615239, 0.7276563014167196, 3.1305028840420324, 2.6799172535746427, 1.1206554983258945, 2.3692166099377983, 6.9760725537692165, 5.0670572892670664, 3.0328304393893184, 2.6497182806813733, 2.830663147205347, 1.1242211812702918, 5.369772993015894, 1.071756820838234, 3.432866312484588, 4.800271481003802, 4.721171969901889, 1.502503256717819, 3.9679142802787237, 1.8127046356012502, 0.6726644736730546, 5.0427376571398606, 3.996374373280912, 2.06546452700692, 1.9979302009499529, 2.549785766969403, 4.071073690604624, 2.4975921005799306, 2.8239603686824357, 3.641630346933367, 3.6362322053099345, 2.319084397701687, 0.9508530720823235, 1.6727093014201597, 5.779508715166792, 1.6344942649765117, 1.6484774090267071, 1.2661336633127405, 3.5872363570806693, 5.148120172282647, 3.480326558049886, -0.104941769906581, 3.5093143940590745, 0.9248484197608667, 1.6279279039657035, 3.0819764514283836, 1.294868187209961, 0.1950747369246233, 3.161986263814615, 3.4329425405002376, 1.4900962662111505, 3.634965736868737, 1.2674278752433756, 1.742993017272622, 0.646264656911542, 3.6960837086943483, 4.081672947494359, 6.336639282023586, -0.18874016063649823, 3.147391607203781, 6.493423098305247, 2.3334153799999937, 0.7680946871133385, 2.7750582111846867, 7.7291686744532795, 2.5504691524742875, 0.6637339254563852, 4.241503754572015, 2.101001159306923, 4.277611398069902, 0.6055764832766902, 2.7719157594384223, 0.024851608922403002, 7.273181716229353, 2.617258503039203, 0.8591424936856575, 5.05967825056434, 1.9120063593845775, 2.543861059768478, 1.7616392289536351, 2.4540707505371295, 4.974013342784182, 1.574839088837783, 4.532992495101258, 1.0603658106181086, 2.6954066003932033]}, {\"marker\": {\"color\": \"rgba(0, 245, 100, 0.8)\"}, \"mode\": \"markers\", \"name\": \"Cluster 3\", \"type\": \"scatter\", \"x\": [-1.2000559843430845, -2.1519724157646603, -0.16004685063301738, -0.3522859879535492, -2.676143393762327, -0.9565916756752548, 5.009653625922803, 0.5595169733792015, 2.611611995956481, 1.57239194100615, -4.16660632224375, -0.28209061631486937, 2.5279106823196327, -1.542597580714136, 0.914396597991329, -0.21782276356772354, -0.3254969767197367, -0.91829249451462, -2.2804882028901803, 1.6549119465402737, -2.2951229908094946, 3.124874117739486, -4.207581461367198, -2.480075914067553, 0.1453278811586212, -0.6562004515522175, -2.2740330741454677, -1.0268021208753793, -4.014169855315276, -3.3357331027772994, 3.1330267318534655, -0.43751980868498586, -0.7975840694347625, 1.2189645796064947, -0.3715432812975452, -0.5964020350652156, 0.13057157433371966, 2.2137658639491384, 0.4499122376562101, -1.6161140477744482, 0.039491615235946215, -0.38121482405408696, 0.7498563175905271, -0.9854797383731941, 1.7303014255645506, -3.7482030180472834, -0.44970862654179444, -1.2410251742883323, 1.4512329285066896, 0.2906950073394726, 3.8265772493016748, 1.8994236246449085, -1.026629418772058, -0.678452512376538, -1.2336317226488005, -3.7379516428586754, 3.7486337451085086, -3.9463769733088343, -1.7965179907661522, -1.5220854512693283, -1.8217344721196385, -1.0043718691043653, -0.580907633758558, -1.8693280582316167, -0.4969283212662057, -2.0301348354710056, -3.160502879398238, -3.539503046161503, -0.8173479108895301, 2.987165782038442, -2.838772764700852, 2.78138535548412, -3.2417989969522756, -3.000295885802417, 1.686608848555661, -1.8553465626913452, -2.718585990617446, -0.2945611804110893, 6.616284714716736, -5.56917656738464, -1.5648374119202444, -0.9236897102004307, -0.4395605020093647, 2.4167875141102715, -3.679631216663147, 1.116333717278966, 4.99063645549292, -2.0721768521508523, -2.8228472097157056, 1.0297968928299777, 0.9827356323193787, -0.6353432854160709, -5.329185916088092, -0.0027521684192399957, 2.7701825876428843, 0.0768860279730857, -1.7805823779295593, -0.592092260712638, -0.48026420391114044, 0.9733274332795516, 0.8554209686883126, 0.5448631632722613, 0.21726376639750491, -0.055468036231549514, -1.5790382229088857, 2.8701503769783483, 0.49866649076737846, 1.1768583824695182, -0.747664650506408, 0.6099912070731829, -2.955304140797641, 1.4349979106139046, -2.619199429154331, -0.3208073551795862, -3.6629042843736475, -1.3365178787325276, 0.7158143999947493, 1.6270585695977924, 1.148474213236349, 2.879263167842249, -3.076376147961743, 2.012591218580803, 2.2000846492809756, -0.10662557977281217, 5.430018282017332, 4.555661523906238, -2.568783220058525, -2.0118944239045886, -1.6356764197770894, -3.3364846376859996, 0.26968661215728507, -0.33967843773124756, 0.7135044789502079, -2.2470666318692696, -4.104690301528163, 3.490902663202024, 3.539781149085489, -0.35161952541783653, -0.7401997110086783, -1.8888997936887901, -1.2291872542830826, -1.092148259040087, -2.3334575956282153, -0.010238167347066798, -0.14347449513417834, -4.904975951116829, -3.3644373169124573, 4.604556557893301, -1.7047107955945635, 2.8749891746019887, -2.833294337657309, -0.8377281844659911, 0.9242026357702002, -2.653764763042709, -0.43291809588073216, -2.325747681368505, -3.7631829995660406, -2.484676583915044, -1.1311392880691251, -4.348856366950825, -0.9186807830656698, 3.966537073943331, 0.28851771794417486, -1.9789916281168096, -0.23953436190708308, -0.0807035500895718, -0.10781065052519506, -3.068229033925567, 1.131315245690535, 2.227122380049668, -2.6597542535311445, -1.8962992948793376, 2.7704903893022585, 1.1149890917209968, -1.873472387900861, -0.207403940421805, -4.0392352605433235, -0.5716381720892025, 2.0679379662610224, -3.242579540646865, -3.732110639008873, -0.7885136315456339, -0.09532136682311551, -2.3852711879360955, 2.502053643517362, 0.3987950688315887, 1.1114631979766065, 2.652676548682815, -1.1487309640887202, 0.06311539323709903, 2.364580450054362, -3.10932753551683, -1.5297911346013588, -4.148062201612474, 3.029575253941261, 0.9519143867831371, -2.1990035329463478, -1.2933003793495534, -0.38225806834871023, 0.895314315199086, 0.44963199181012, -1.6164452144719366, -1.125397355402835, -1.3567080434411969, 2.9365488900182837, -0.26839515688034904, -0.6689538963500505, 1.8600834725238782, 2.180279198350146, -0.6288073398342473, 2.594781840568058, 0.3296753880190737, 0.5568786850366115, -2.7215663587326553, -0.07683078553876362, -0.9021281197867631, -0.08452930328665179, -4.942541788249306, -3.4526754510320834, -2.9035946858538724, 4.3037269161119225, -0.22705786731079286, -0.9890894079039575, 1.2659850253803662, 0.22455979793599515, 2.229844247519021, -0.14658407743133897, -2.7423251342543797, -1.3627621907771783, -1.1916167201822503, 4.236753504994749, -1.348944221005156, 3.2679612392949897, -0.22796725483893324, 2.954114524132464, 1.688795270632696, 2.3439319559999925, -2.832069714888789, 2.841710386771273, -1.4687058131865594, -3.821740026024438, 4.4038272145511295, 0.5982019085818924, 0.6963754656894721, 1.4212270470119994, -1.6774439774301386, -1.672271475066064, -0.2520613703404171, 0.5325067262266081, -1.877291538731998, 0.2789792099185685, -2.1115972766996176, -1.020171670863507, 2.4586820046714672, -0.885064617829455, 2.9640219580980522, 0.7822657979073415, 0.8512003207286912, -3.7614556717307153, 0.6213132727010618, -2.311836661155149, -1.0997457832718447, 0.45809698928379183, 1.6036916150113536, 0.49599053831268186, 0.45413843257242015, 3.8325711052041247, -0.5280376383787113, -0.34847066606426697, -0.8553659068569713, -0.40397018304056354, 2.473005165807399, -3.9433878160753855, 3.6413693243551735, 3.1213268550375473, -0.4273559183965761, 3.819021640733508, 1.9749056240686413, 0.014245151327119013, -0.1928390357430327, 1.2893303338984499, -4.346764305808917, 5.012550280582809, -0.9643521750402203, 0.4475753405209699, 2.922619297002045, -0.4640522427572234, 0.9927945831279504, -1.9200116536114427, -1.0685668345698178, -4.307226470014805, -2.8530868658192525, -3.2717299384320655, 1.3537920098245613, -0.5884669080703432, 1.4970356206877544, -1.0589160709300758, -4.279782457756993, -1.7117433853592499, -1.2384209721288066, -2.047143798556984, -1.0223875425762647, 0.267998923356941, 0.7883822549258287, 1.881610736245106, 2.3269349950365417, -1.3473207365310873, -0.45938338703330905, -0.5513790525455171, -1.651591990041209, -0.6949491616636921, -0.3269812456345797, 1.1741303100778686, -1.2529905956936378, -1.7835618710064545, -1.6605803963008794, 0.7892398677199399, 4.758897712671617, 2.215594807655144, -2.1764248232185084, 4.794426025074092, 3.5974554971140673, 1.7184215093028266, -2.1164287477868613, -0.16496737396192068, -0.947283877399373, -0.625783737634175, -0.5888256551994349, -2.9664746700932874, -5.146458939883124, -1.2091560532893104, 1.5853461019332442, 0.5721293233076745, -0.9661456605237125, 0.696264143415671, -0.9793932324504753, 1.4285717992960987, 2.1052726907976296, 2.8618028619493336, 2.8153962690313583, 2.5422034880561384, -1.5447342270239899, 4.275845221779891, -4.365480304296745, -1.3704376654887291, -0.519326329734533, -0.47970078073823874, -5.387136342969827, -0.12053262454538309, 2.601226520024498, -3.4328288279859005, 1.010962886480452, 1.407987600904785, -0.5544395019498187, -0.48228295791585785, 1.7150355590579616, -2.609285183644429, 2.8553666239818742, 2.0471161661076254, -1.4241318033833916, 0.5829785946763233, -0.30953066189546175, -1.110736600827951, 0.6026224835316786, 0.40649304211760845, 1.9612438860939714, -2.7566080768821597, -2.1076764743113765, -2.874924568327875, 4.7222333330769475, 1.6255328320879885, 0.25397293293634854, 0.5976268250688107, -4.245421944191724, 3.4543018162344996, -0.29526166326841935, 1.4244846129148965, -1.0461700425738405, -2.316362164510692, -1.4024384924975297, 3.7991406424883603, -0.7348345278297118, 0.6795027212860172, -3.0485320224235495, -0.24946741020184918, -0.215120688222537, -1.3414994046419784, -0.9045037122181632, -1.1838615584149204, -0.22816723645888876, -2.546870640585297], \"y\": [2.029476354508454, 2.9553470994120734, 3.91020383841106, 2.464445958664203, 1.6998988940211546, 1.0806579429323415, 4.113090296864922, 3.5651852253544725, 3.444626056859948, 4.105313006019773, 1.915108335673017, 1.2344353772153298, 3.370633615422572, 1.5874973302464626, -0.7250785664178254, 0.6649282879292274, 2.538075230734365, 0.04945416076539324, 2.451749880211812, 4.769520407090954, 1.5019578504567732, 2.661552842990263, 1.6138631723635481, 5.850652128517252, 0.7936882516123831, 0.8014786399719324, 6.969201172292412, 3.722089477702715, 3.391541988617864, 2.4976938589985354, 2.124662541637311, 2.7355573501702195, 0.885255991884552, 1.1330327371032556, 0.39729731931380013, 2.1155879432904574, 0.7054472342810107, 2.135278941428354, 1.2483659336801214, 3.635335334740303, 0.5687525924058696, 3.1005390375982507, -0.13036929513840462, 0.9466201149955262, 1.2705262614223238, 3.5839562534206086, 2.7905138419884583, 2.745936766854142, 3.988407973832587, 2.2556224151413073, 2.1939655547605974, 3.489593337911026, 1.271044089388386, 5.0216700738288, 0.880371740822197, 3.7958812905456973, 1.036240436286519, 4.226979613252497, 3.4795032674444197, 0.9534423077383405, 4.145800433810084, 2.7263555057383995, 0.471389725773387, 2.824293486904164, -1.037243299441397, 3.0232600404583585, 4.285357561797128, 1.597550788838613, 3.538280271848775, 4.18695159341911, 3.219629572087952, 2.3016899255413894, 3.599142729080587, 2.165348555776413, 3.7271267595574193, 4.083012878984719, 3.3970470725235455, 4.207226425944241, 6.187826657491058, 4.653636812160106, 1.9334511316694654, 4.794872706904239, 1.9543302057940226, 3.6530864538820564, 1.985429171311605, 0.9379991591452272, 1.7313193001227327, 2.5958376573639477, 1.2531943194132429, 1.1104882978612416, -0.18891869296252417, 6.990799357934257, 5.526969905200081, 2.8850324652363613, 2.156669351632804, 0.008163020942541451, 2.0375008076609142, 6.343056826323014, 1.142929993939954, -0.05247308862934097, 1.4306862793952206, 4.119896845400845, 2.90399444967598, -0.3919809975270043, 2.8248334201251324, 0.7329745600459765, 0.3333095027149772, 2.718025265351794, 5.035065097216027, 2.257083475021522, 1.5682133765321669, 0.3575665396545829, 0.7648633810493661, 1.8140988287262956, 3.996091898098137, 4.245594698246478, 0.5414984751033252, 2.890425356010637, 1.634226802774731, 5.694520099945382, 2.809238182524357, 0.7619956995430507, 3.1317790206884166, 2.6844732283885664, 2.309952219137587, 2.7154530187109414, 1.708382470584619, 1.4830665865263728, 0.4573251081983651, 2.050700667529581, 5.236819266944243, 4.919411804799054, 4.381230048530422, 4.350379237698698, 2.077070300156726, 4.747552771465244, 3.194457998008872, 2.7610396818438567, 1.6194277919335287, 6.34368314290874, 1.784655484634924, 1.1480782845394413, 1.2158207432206993, 1.549719225943239, 4.569772343129147, 2.5228810567924937, 2.562159744745367, 4.441484606044271, 5.617892094345344, 4.746862731532891, 2.3152733200795117, 1.5171733008655337, 1.6067777908693768, 3.9014019677144387, -0.1531632535912234, 1.764083704026458, 6.100930170861705, 7.192506742512449, 1.2322168325888014, 3.9904411049287103, 0.7636384327137131, 3.2606184150719306, 0.8522152812820555, 5.899844366962809, 3.1428592894081144, 1.7065438978940293, -0.017879104458066366, 2.3124099861739063, 1.8933160946191974, 2.3228073313491007, 1.6929692872425828, 2.779016746907506, 3.0260515814925752, 5.777115305896308, 2.929896327934883, 2.456082480001755, 5.220051756507396, 3.8550878255651546, 2.992850806490546, 1.5480040470805458, 3.8634552232171657, 2.799628037829931, 2.165197476880879, 2.87140387345114, 4.608029987689516, 9.503833656874683, 2.934368037387931, 4.8935154456208725, 2.840779342145055, 2.4589135185128503, 1.9464910904352875, 4.5864535734113145, -0.030240846506748437, 3.887614207842007, 4.476918115103041, 4.258815967881601, 3.434898306580869, 2.833341754178389, 0.11788790184152052, 5.250440746721535, -0.14384022573705865, 1.0857914863624767, 0.5089695069665532, 2.099864201084748, 2.3176059294563225, 1.4721465293287281, 1.6423364402060314, 0.28806931951105325, 1.936742801102409, 5.701343464830624, 0.8254097844899858, 5.0913265943850785, 4.351584882955197, 2.0428809879012824, 1.8344810788233856, 4.379635620619253, 0.813465080002812, 2.4745252898733643, 3.2132442415074443, 1.1565544147188513, 4.574135439249385, 3.182096443663972, 4.133769094519302, 6.355676842771144, -0.5316533055603059, 2.4636965847723014, 3.3204409491291935, 2.837296520837052, 2.185660091439305, 2.070692607244426, 3.6339629972366527, 0.025585925856912314, 3.514500205015062, 0.13939745596674646, 2.865182885908668, 2.4503073771976136, 1.2757175044181717, 3.421459726078941, 2.560868863761799, 2.007759393418332, 3.6764924366863605, 4.961025418196115, 1.519826464625623, 3.0064699091898057, 0.44743406595871443, 2.1080907152427284, 4.252372631062658, 4.60177996295143, 4.547030630456633, 1.5694328295410267, 2.58854615574324, 6.0067548968640425, 1.4247677374073748, 1.928880462286642, 2.225988890249976, 1.6207639530826798, 0.011530190754383215, 2.7499547066769168, 2.194042530947313, 1.4382059205874653, 2.771832207590077, 0.8128352350104644, 2.3188711447422543, 3.967533704164154, 2.650013811403814, 3.8127851247417612, 1.6461259430030457, 5.348124006418239, 2.5556328133405577, 4.649101506184073, 3.5404064493441356, 4.31666499567998, 3.460185288317464, 1.9768196008221957, 0.6231127801984528, 3.7274704042945803, 3.4052160454153553, 1.4103872844246352, 1.5795021203039767, 1.7269611431775336, 3.568529510569658, 3.483894976946507, 3.219566449450802, 2.6337925057730986, 3.380447637986637, 1.3757307595289516, -0.29866515820359474, 3.8977811539478373, 0.7381674347916829, 1.7636119795851917, 2.950175779197033, 2.774052767367105, 3.914298489799463, 1.2857131704019886, 0.8192691704003865, 4.161029957772782, 0.6239115556709582, 5.216015011941066, 1.5767385459281866, 6.498246504397463, 5.153643513023084, 2.845491509611873, 0.5170716346793877, 0.00021125400006282455, 2.604729889131336, 0.5426912800615239, 0.7276563014167196, 3.1305028840420324, 2.6799172535746427, 1.1206554983258945, 2.3692166099377983, 6.9760725537692165, 5.0670572892670664, 3.0328304393893184, 2.6497182806813733, 2.830663147205347, 1.1242211812702918, 5.369772993015894, 1.071756820838234, 3.432866312484588, 4.800271481003802, 4.721171969901889, 1.502503256717819, 3.9679142802787237, 1.8127046356012502, 0.6726644736730546, 5.0427376571398606, 3.996374373280912, 2.06546452700692, 1.9979302009499529, 2.549785766969403, 4.071073690604624, 2.4975921005799306, 2.8239603686824357, 3.641630346933367, 3.6362322053099345, 2.319084397701687, 0.9508530720823235, 1.6727093014201597, 5.779508715166792, 1.6344942649765117, 1.6484774090267071, 1.2661336633127405, 3.5872363570806693, 5.148120172282647, 3.480326558049886, -0.104941769906581, 3.5093143940590745, 0.9248484197608667, 1.6279279039657035, 3.0819764514283836, 1.294868187209961, 0.1950747369246233, 3.161986263814615, 3.4329425405002376, 1.4900962662111505, 3.634965736868737, 1.2674278752433756, 1.742993017272622, 0.646264656911542, 3.6960837086943483, 4.081672947494359, 6.336639282023586, -0.18874016063649823, 3.147391607203781, 6.493423098305247, 2.3334153799999937, 0.7680946871133385, 2.7750582111846867, 7.7291686744532795, 2.5504691524742875, 0.6637339254563852, 4.241503754572015, 2.101001159306923, 4.277611398069902, 0.6055764832766902, 2.7719157594384223, 0.024851608922403002, 7.273181716229353, 2.617258503039203, 0.8591424936856575, 5.05967825056434, 1.9120063593845775, 2.543861059768478, 1.7616392289536351, 2.4540707505371295, 4.974013342784182, 1.574839088837783, 4.532992495101258, 1.0603658106181086, 2.6954066003932033]}, {\"marker\": {\"color\": \"rgba(0, 150, 200, 0.8)\"}, \"mode\": \"markers\", \"name\": \"Cluster 4\", \"type\": \"scatter\", \"x\": [-1.2000559843430845, -2.1519724157646603, -0.16004685063301738, -0.3522859879535492, -2.676143393762327, -0.9565916756752548, 5.009653625922803, 0.5595169733792015, 2.611611995956481, 1.57239194100615, -4.16660632224375, -0.28209061631486937, 2.5279106823196327, -1.542597580714136, 0.914396597991329, -0.21782276356772354, -0.3254969767197367, -0.91829249451462, -2.2804882028901803, 1.6549119465402737, -2.2951229908094946, 3.124874117739486, -4.207581461367198, -2.480075914067553, 0.1453278811586212, -0.6562004515522175, -2.2740330741454677, -1.0268021208753793, -4.014169855315276, -3.3357331027772994, 3.1330267318534655, -0.43751980868498586, -0.7975840694347625, 1.2189645796064947, -0.3715432812975452, -0.5964020350652156, 0.13057157433371966, 2.2137658639491384, 0.4499122376562101, -1.6161140477744482, 0.039491615235946215, -0.38121482405408696, 0.7498563175905271, -0.9854797383731941, 1.7303014255645506, -3.7482030180472834, -0.44970862654179444, -1.2410251742883323, 1.4512329285066896, 0.2906950073394726, 3.8265772493016748, 1.8994236246449085, -1.026629418772058, -0.678452512376538, -1.2336317226488005, -3.7379516428586754, 3.7486337451085086, -3.9463769733088343, -1.7965179907661522, -1.5220854512693283, -1.8217344721196385, -1.0043718691043653, -0.580907633758558, -1.8693280582316167, -0.4969283212662057, -2.0301348354710056, -3.160502879398238, -3.539503046161503, -0.8173479108895301, 2.987165782038442, -2.838772764700852, 2.78138535548412, -3.2417989969522756, -3.000295885802417, 1.686608848555661, -1.8553465626913452, -2.718585990617446, -0.2945611804110893, 6.616284714716736, -5.56917656738464, -1.5648374119202444, -0.9236897102004307, -0.4395605020093647, 2.4167875141102715, -3.679631216663147, 1.116333717278966, 4.99063645549292, -2.0721768521508523, -2.8228472097157056, 1.0297968928299777, 0.9827356323193787, -0.6353432854160709, -5.329185916088092, -0.0027521684192399957, 2.7701825876428843, 0.0768860279730857, -1.7805823779295593, -0.592092260712638, -0.48026420391114044, 0.9733274332795516, 0.8554209686883126, 0.5448631632722613, 0.21726376639750491, -0.055468036231549514, -1.5790382229088857, 2.8701503769783483, 0.49866649076737846, 1.1768583824695182, -0.747664650506408, 0.6099912070731829, -2.955304140797641, 1.4349979106139046, -2.619199429154331, -0.3208073551795862, -3.6629042843736475, -1.3365178787325276, 0.7158143999947493, 1.6270585695977924, 1.148474213236349, 2.879263167842249, -3.076376147961743, 2.012591218580803, 2.2000846492809756, -0.10662557977281217, 5.430018282017332, 4.555661523906238, -2.568783220058525, -2.0118944239045886, -1.6356764197770894, -3.3364846376859996, 0.26968661215728507, -0.33967843773124756, 0.7135044789502079, -2.2470666318692696, -4.104690301528163, 3.490902663202024, 3.539781149085489, -0.35161952541783653, -0.7401997110086783, -1.8888997936887901, -1.2291872542830826, -1.092148259040087, -2.3334575956282153, -0.010238167347066798, -0.14347449513417834, -4.904975951116829, -3.3644373169124573, 4.604556557893301, -1.7047107955945635, 2.8749891746019887, -2.833294337657309, -0.8377281844659911, 0.9242026357702002, -2.653764763042709, -0.43291809588073216, -2.325747681368505, -3.7631829995660406, -2.484676583915044, -1.1311392880691251, -4.348856366950825, -0.9186807830656698, 3.966537073943331, 0.28851771794417486, -1.9789916281168096, -0.23953436190708308, -0.0807035500895718, -0.10781065052519506, -3.068229033925567, 1.131315245690535, 2.227122380049668, -2.6597542535311445, -1.8962992948793376, 2.7704903893022585, 1.1149890917209968, -1.873472387900861, -0.207403940421805, -4.0392352605433235, -0.5716381720892025, 2.0679379662610224, -3.242579540646865, -3.732110639008873, -0.7885136315456339, -0.09532136682311551, -2.3852711879360955, 2.502053643517362, 0.3987950688315887, 1.1114631979766065, 2.652676548682815, -1.1487309640887202, 0.06311539323709903, 2.364580450054362, -3.10932753551683, -1.5297911346013588, -4.148062201612474, 3.029575253941261, 0.9519143867831371, -2.1990035329463478, -1.2933003793495534, -0.38225806834871023, 0.895314315199086, 0.44963199181012, -1.6164452144719366, -1.125397355402835, -1.3567080434411969, 2.9365488900182837, -0.26839515688034904, -0.6689538963500505, 1.8600834725238782, 2.180279198350146, -0.6288073398342473, 2.594781840568058, 0.3296753880190737, 0.5568786850366115, -2.7215663587326553, -0.07683078553876362, -0.9021281197867631, -0.08452930328665179, -4.942541788249306, -3.4526754510320834, -2.9035946858538724, 4.3037269161119225, -0.22705786731079286, -0.9890894079039575, 1.2659850253803662, 0.22455979793599515, 2.229844247519021, -0.14658407743133897, -2.7423251342543797, -1.3627621907771783, -1.1916167201822503, 4.236753504994749, -1.348944221005156, 3.2679612392949897, -0.22796725483893324, 2.954114524132464, 1.688795270632696, 2.3439319559999925, -2.832069714888789, 2.841710386771273, -1.4687058131865594, -3.821740026024438, 4.4038272145511295, 0.5982019085818924, 0.6963754656894721, 1.4212270470119994, -1.6774439774301386, -1.672271475066064, -0.2520613703404171, 0.5325067262266081, -1.877291538731998, 0.2789792099185685, -2.1115972766996176, -1.020171670863507, 2.4586820046714672, -0.885064617829455, 2.9640219580980522, 0.7822657979073415, 0.8512003207286912, -3.7614556717307153, 0.6213132727010618, -2.311836661155149, -1.0997457832718447, 0.45809698928379183, 1.6036916150113536, 0.49599053831268186, 0.45413843257242015, 3.8325711052041247, -0.5280376383787113, -0.34847066606426697, -0.8553659068569713, -0.40397018304056354, 2.473005165807399, -3.9433878160753855, 3.6413693243551735, 3.1213268550375473, -0.4273559183965761, 3.819021640733508, 1.9749056240686413, 0.014245151327119013, -0.1928390357430327, 1.2893303338984499, -4.346764305808917, 5.012550280582809, -0.9643521750402203, 0.4475753405209699, 2.922619297002045, -0.4640522427572234, 0.9927945831279504, -1.9200116536114427, -1.0685668345698178, -4.307226470014805, -2.8530868658192525, -3.2717299384320655, 1.3537920098245613, -0.5884669080703432, 1.4970356206877544, -1.0589160709300758, -4.279782457756993, -1.7117433853592499, -1.2384209721288066, -2.047143798556984, -1.0223875425762647, 0.267998923356941, 0.7883822549258287, 1.881610736245106, 2.3269349950365417, -1.3473207365310873, -0.45938338703330905, -0.5513790525455171, -1.651591990041209, -0.6949491616636921, -0.3269812456345797, 1.1741303100778686, -1.2529905956936378, -1.7835618710064545, -1.6605803963008794, 0.7892398677199399, 4.758897712671617, 2.215594807655144, -2.1764248232185084, 4.794426025074092, 3.5974554971140673, 1.7184215093028266, -2.1164287477868613, -0.16496737396192068, -0.947283877399373, -0.625783737634175, -0.5888256551994349, -2.9664746700932874, -5.146458939883124, -1.2091560532893104, 1.5853461019332442, 0.5721293233076745, -0.9661456605237125, 0.696264143415671, -0.9793932324504753, 1.4285717992960987, 2.1052726907976296, 2.8618028619493336, 2.8153962690313583, 2.5422034880561384, -1.5447342270239899, 4.275845221779891, -4.365480304296745, -1.3704376654887291, -0.519326329734533, -0.47970078073823874, -5.387136342969827, -0.12053262454538309, 2.601226520024498, -3.4328288279859005, 1.010962886480452, 1.407987600904785, -0.5544395019498187, -0.48228295791585785, 1.7150355590579616, -2.609285183644429, 2.8553666239818742, 2.0471161661076254, -1.4241318033833916, 0.5829785946763233, -0.30953066189546175, -1.110736600827951, 0.6026224835316786, 0.40649304211760845, 1.9612438860939714, -2.7566080768821597, -2.1076764743113765, -2.874924568327875, 4.7222333330769475, 1.6255328320879885, 0.25397293293634854, 0.5976268250688107, -4.245421944191724, 3.4543018162344996, -0.29526166326841935, 1.4244846129148965, -1.0461700425738405, -2.316362164510692, -1.4024384924975297, 3.7991406424883603, -0.7348345278297118, 0.6795027212860172, -3.0485320224235495, -0.24946741020184918, -0.215120688222537, -1.3414994046419784, -0.9045037122181632, -1.1838615584149204, -0.22816723645888876, -2.546870640585297], \"y\": [2.029476354508454, 2.9553470994120734, 3.91020383841106, 2.464445958664203, 1.6998988940211546, 1.0806579429323415, 4.113090296864922, 3.5651852253544725, 3.444626056859948, 4.105313006019773, 1.915108335673017, 1.2344353772153298, 3.370633615422572, 1.5874973302464626, -0.7250785664178254, 0.6649282879292274, 2.538075230734365, 0.04945416076539324, 2.451749880211812, 4.769520407090954, 1.5019578504567732, 2.661552842990263, 1.6138631723635481, 5.850652128517252, 0.7936882516123831, 0.8014786399719324, 6.969201172292412, 3.722089477702715, 3.391541988617864, 2.4976938589985354, 2.124662541637311, 2.7355573501702195, 0.885255991884552, 1.1330327371032556, 0.39729731931380013, 2.1155879432904574, 0.7054472342810107, 2.135278941428354, 1.2483659336801214, 3.635335334740303, 0.5687525924058696, 3.1005390375982507, -0.13036929513840462, 0.9466201149955262, 1.2705262614223238, 3.5839562534206086, 2.7905138419884583, 2.745936766854142, 3.988407973832587, 2.2556224151413073, 2.1939655547605974, 3.489593337911026, 1.271044089388386, 5.0216700738288, 0.880371740822197, 3.7958812905456973, 1.036240436286519, 4.226979613252497, 3.4795032674444197, 0.9534423077383405, 4.145800433810084, 2.7263555057383995, 0.471389725773387, 2.824293486904164, -1.037243299441397, 3.0232600404583585, 4.285357561797128, 1.597550788838613, 3.538280271848775, 4.18695159341911, 3.219629572087952, 2.3016899255413894, 3.599142729080587, 2.165348555776413, 3.7271267595574193, 4.083012878984719, 3.3970470725235455, 4.207226425944241, 6.187826657491058, 4.653636812160106, 1.9334511316694654, 4.794872706904239, 1.9543302057940226, 3.6530864538820564, 1.985429171311605, 0.9379991591452272, 1.7313193001227327, 2.5958376573639477, 1.2531943194132429, 1.1104882978612416, -0.18891869296252417, 6.990799357934257, 5.526969905200081, 2.8850324652363613, 2.156669351632804, 0.008163020942541451, 2.0375008076609142, 6.343056826323014, 1.142929993939954, -0.05247308862934097, 1.4306862793952206, 4.119896845400845, 2.90399444967598, -0.3919809975270043, 2.8248334201251324, 0.7329745600459765, 0.3333095027149772, 2.718025265351794, 5.035065097216027, 2.257083475021522, 1.5682133765321669, 0.3575665396545829, 0.7648633810493661, 1.8140988287262956, 3.996091898098137, 4.245594698246478, 0.5414984751033252, 2.890425356010637, 1.634226802774731, 5.694520099945382, 2.809238182524357, 0.7619956995430507, 3.1317790206884166, 2.6844732283885664, 2.309952219137587, 2.7154530187109414, 1.708382470584619, 1.4830665865263728, 0.4573251081983651, 2.050700667529581, 5.236819266944243, 4.919411804799054, 4.381230048530422, 4.350379237698698, 2.077070300156726, 4.747552771465244, 3.194457998008872, 2.7610396818438567, 1.6194277919335287, 6.34368314290874, 1.784655484634924, 1.1480782845394413, 1.2158207432206993, 1.549719225943239, 4.569772343129147, 2.5228810567924937, 2.562159744745367, 4.441484606044271, 5.617892094345344, 4.746862731532891, 2.3152733200795117, 1.5171733008655337, 1.6067777908693768, 3.9014019677144387, -0.1531632535912234, 1.764083704026458, 6.100930170861705, 7.192506742512449, 1.2322168325888014, 3.9904411049287103, 0.7636384327137131, 3.2606184150719306, 0.8522152812820555, 5.899844366962809, 3.1428592894081144, 1.7065438978940293, -0.017879104458066366, 2.3124099861739063, 1.8933160946191974, 2.3228073313491007, 1.6929692872425828, 2.779016746907506, 3.0260515814925752, 5.777115305896308, 2.929896327934883, 2.456082480001755, 5.220051756507396, 3.8550878255651546, 2.992850806490546, 1.5480040470805458, 3.8634552232171657, 2.799628037829931, 2.165197476880879, 2.87140387345114, 4.608029987689516, 9.503833656874683, 2.934368037387931, 4.8935154456208725, 2.840779342145055, 2.4589135185128503, 1.9464910904352875, 4.5864535734113145, -0.030240846506748437, 3.887614207842007, 4.476918115103041, 4.258815967881601, 3.434898306580869, 2.833341754178389, 0.11788790184152052, 5.250440746721535, -0.14384022573705865, 1.0857914863624767, 0.5089695069665532, 2.099864201084748, 2.3176059294563225, 1.4721465293287281, 1.6423364402060314, 0.28806931951105325, 1.936742801102409, 5.701343464830624, 0.8254097844899858, 5.0913265943850785, 4.351584882955197, 2.0428809879012824, 1.8344810788233856, 4.379635620619253, 0.813465080002812, 2.4745252898733643, 3.2132442415074443, 1.1565544147188513, 4.574135439249385, 3.182096443663972, 4.133769094519302, 6.355676842771144, -0.5316533055603059, 2.4636965847723014, 3.3204409491291935, 2.837296520837052, 2.185660091439305, 2.070692607244426, 3.6339629972366527, 0.025585925856912314, 3.514500205015062, 0.13939745596674646, 2.865182885908668, 2.4503073771976136, 1.2757175044181717, 3.421459726078941, 2.560868863761799, 2.007759393418332, 3.6764924366863605, 4.961025418196115, 1.519826464625623, 3.0064699091898057, 0.44743406595871443, 2.1080907152427284, 4.252372631062658, 4.60177996295143, 4.547030630456633, 1.5694328295410267, 2.58854615574324, 6.0067548968640425, 1.4247677374073748, 1.928880462286642, 2.225988890249976, 1.6207639530826798, 0.011530190754383215, 2.7499547066769168, 2.194042530947313, 1.4382059205874653, 2.771832207590077, 0.8128352350104644, 2.3188711447422543, 3.967533704164154, 2.650013811403814, 3.8127851247417612, 1.6461259430030457, 5.348124006418239, 2.5556328133405577, 4.649101506184073, 3.5404064493441356, 4.31666499567998, 3.460185288317464, 1.9768196008221957, 0.6231127801984528, 3.7274704042945803, 3.4052160454153553, 1.4103872844246352, 1.5795021203039767, 1.7269611431775336, 3.568529510569658, 3.483894976946507, 3.219566449450802, 2.6337925057730986, 3.380447637986637, 1.3757307595289516, -0.29866515820359474, 3.8977811539478373, 0.7381674347916829, 1.7636119795851917, 2.950175779197033, 2.774052767367105, 3.914298489799463, 1.2857131704019886, 0.8192691704003865, 4.161029957772782, 0.6239115556709582, 5.216015011941066, 1.5767385459281866, 6.498246504397463, 5.153643513023084, 2.845491509611873, 0.5170716346793877, 0.00021125400006282455, 2.604729889131336, 0.5426912800615239, 0.7276563014167196, 3.1305028840420324, 2.6799172535746427, 1.1206554983258945, 2.3692166099377983, 6.9760725537692165, 5.0670572892670664, 3.0328304393893184, 2.6497182806813733, 2.830663147205347, 1.1242211812702918, 5.369772993015894, 1.071756820838234, 3.432866312484588, 4.800271481003802, 4.721171969901889, 1.502503256717819, 3.9679142802787237, 1.8127046356012502, 0.6726644736730546, 5.0427376571398606, 3.996374373280912, 2.06546452700692, 1.9979302009499529, 2.549785766969403, 4.071073690604624, 2.4975921005799306, 2.8239603686824357, 3.641630346933367, 3.6362322053099345, 2.319084397701687, 0.9508530720823235, 1.6727093014201597, 5.779508715166792, 1.6344942649765117, 1.6484774090267071, 1.2661336633127405, 3.5872363570806693, 5.148120172282647, 3.480326558049886, -0.104941769906581, 3.5093143940590745, 0.9248484197608667, 1.6279279039657035, 3.0819764514283836, 1.294868187209961, 0.1950747369246233, 3.161986263814615, 3.4329425405002376, 1.4900962662111505, 3.634965736868737, 1.2674278752433756, 1.742993017272622, 0.646264656911542, 3.6960837086943483, 4.081672947494359, 6.336639282023586, -0.18874016063649823, 3.147391607203781, 6.493423098305247, 2.3334153799999937, 0.7680946871133385, 2.7750582111846867, 7.7291686744532795, 2.5504691524742875, 0.6637339254563852, 4.241503754572015, 2.101001159306923, 4.277611398069902, 0.6055764832766902, 2.7719157594384223, 0.024851608922403002, 7.273181716229353, 2.617258503039203, 0.8591424936856575, 5.05967825056434, 1.9120063593845775, 2.543861059768478, 1.7616392289536351, 2.4540707505371295, 4.974013342784182, 1.574839088837783, 4.532992495101258, 1.0603658106181086, 2.6954066003932033]}],\n",
              "                        {\"template\": {\"data\": {\"bar\": [{\"error_x\": {\"color\": \"#2a3f5f\"}, \"error_y\": {\"color\": \"#2a3f5f\"}, \"marker\": {\"line\": {\"color\": \"#E5ECF6\", \"width\": 0.5}}, \"type\": \"bar\"}], \"barpolar\": [{\"marker\": {\"line\": {\"color\": \"#E5ECF6\", \"width\": 0.5}}, \"type\": \"barpolar\"}], \"carpet\": [{\"aaxis\": {\"endlinecolor\": \"#2a3f5f\", \"gridcolor\": \"white\", \"linecolor\": \"white\", \"minorgridcolor\": \"white\", \"startlinecolor\": \"#2a3f5f\"}, \"baxis\": {\"endlinecolor\": \"#2a3f5f\", \"gridcolor\": \"white\", \"linecolor\": \"white\", \"minorgridcolor\": \"white\", \"startlinecolor\": \"#2a3f5f\"}, \"type\": \"carpet\"}], \"choropleth\": [{\"colorbar\": {\"outlinewidth\": 0, \"ticks\": \"\"}, \"type\": \"choropleth\"}], \"contour\": [{\"colorbar\": {\"outlinewidth\": 0, \"ticks\": \"\"}, \"colorscale\": [[0.0, \"#0d0887\"], [0.1111111111111111, \"#46039f\"], [0.2222222222222222, \"#7201a8\"], [0.3333333333333333, \"#9c179e\"], [0.4444444444444444, \"#bd3786\"], [0.5555555555555556, \"#d8576b\"], [0.6666666666666666, \"#ed7953\"], [0.7777777777777778, \"#fb9f3a\"], [0.8888888888888888, \"#fdca26\"], [1.0, \"#f0f921\"]], \"type\": \"contour\"}], \"contourcarpet\": [{\"colorbar\": {\"outlinewidth\": 0, \"ticks\": \"\"}, \"type\": \"contourcarpet\"}], \"heatmap\": [{\"colorbar\": {\"outlinewidth\": 0, \"ticks\": \"\"}, \"colorscale\": [[0.0, \"#0d0887\"], [0.1111111111111111, \"#46039f\"], [0.2222222222222222, \"#7201a8\"], [0.3333333333333333, \"#9c179e\"], [0.4444444444444444, \"#bd3786\"], [0.5555555555555556, \"#d8576b\"], [0.6666666666666666, \"#ed7953\"], [0.7777777777777778, \"#fb9f3a\"], [0.8888888888888888, \"#fdca26\"], [1.0, \"#f0f921\"]], \"type\": \"heatmap\"}], \"heatmapgl\": [{\"colorbar\": {\"outlinewidth\": 0, \"ticks\": \"\"}, \"colorscale\": [[0.0, \"#0d0887\"], [0.1111111111111111, \"#46039f\"], [0.2222222222222222, \"#7201a8\"], [0.3333333333333333, \"#9c179e\"], [0.4444444444444444, \"#bd3786\"], [0.5555555555555556, \"#d8576b\"], [0.6666666666666666, \"#ed7953\"], [0.7777777777777778, \"#fb9f3a\"], [0.8888888888888888, \"#fdca26\"], [1.0, \"#f0f921\"]], \"type\": \"heatmapgl\"}], \"histogram\": [{\"marker\": {\"colorbar\": {\"outlinewidth\": 0, \"ticks\": \"\"}}, \"type\": \"histogram\"}], \"histogram2d\": [{\"colorbar\": {\"outlinewidth\": 0, \"ticks\": \"\"}, \"colorscale\": [[0.0, \"#0d0887\"], [0.1111111111111111, \"#46039f\"], [0.2222222222222222, \"#7201a8\"], [0.3333333333333333, \"#9c179e\"], [0.4444444444444444, \"#bd3786\"], [0.5555555555555556, \"#d8576b\"], [0.6666666666666666, \"#ed7953\"], [0.7777777777777778, \"#fb9f3a\"], [0.8888888888888888, \"#fdca26\"], [1.0, \"#f0f921\"]], \"type\": \"histogram2d\"}], \"histogram2dcontour\": [{\"colorbar\": {\"outlinewidth\": 0, \"ticks\": \"\"}, \"colorscale\": [[0.0, \"#0d0887\"], [0.1111111111111111, \"#46039f\"], [0.2222222222222222, \"#7201a8\"], [0.3333333333333333, \"#9c179e\"], [0.4444444444444444, \"#bd3786\"], [0.5555555555555556, \"#d8576b\"], [0.6666666666666666, \"#ed7953\"], [0.7777777777777778, \"#fb9f3a\"], [0.8888888888888888, \"#fdca26\"], [1.0, \"#f0f921\"]], \"type\": \"histogram2dcontour\"}], \"mesh3d\": [{\"colorbar\": {\"outlinewidth\": 0, \"ticks\": \"\"}, \"type\": \"mesh3d\"}], \"parcoords\": [{\"line\": {\"colorbar\": {\"outlinewidth\": 0, \"ticks\": \"\"}}, \"type\": \"parcoords\"}], \"pie\": [{\"automargin\": true, \"type\": \"pie\"}], \"scatter\": [{\"marker\": {\"colorbar\": {\"outlinewidth\": 0, \"ticks\": \"\"}}, \"type\": \"scatter\"}], \"scatter3d\": [{\"line\": {\"colorbar\": {\"outlinewidth\": 0, \"ticks\": \"\"}}, \"marker\": {\"colorbar\": {\"outlinewidth\": 0, \"ticks\": \"\"}}, \"type\": \"scatter3d\"}], \"scattercarpet\": [{\"marker\": {\"colorbar\": {\"outlinewidth\": 0, \"ticks\": \"\"}}, \"type\": \"scattercarpet\"}], \"scattergeo\": [{\"marker\": {\"colorbar\": {\"outlinewidth\": 0, \"ticks\": \"\"}}, \"type\": \"scattergeo\"}], \"scattergl\": [{\"marker\": {\"colorbar\": {\"outlinewidth\": 0, \"ticks\": \"\"}}, \"type\": \"scattergl\"}], \"scattermapbox\": [{\"marker\": {\"colorbar\": {\"outlinewidth\": 0, \"ticks\": \"\"}}, \"type\": \"scattermapbox\"}], \"scatterpolar\": [{\"marker\": {\"colorbar\": {\"outlinewidth\": 0, \"ticks\": \"\"}}, \"type\": \"scatterpolar\"}], \"scatterpolargl\": [{\"marker\": {\"colorbar\": {\"outlinewidth\": 0, \"ticks\": \"\"}}, \"type\": \"scatterpolargl\"}], \"scatterternary\": [{\"marker\": {\"colorbar\": {\"outlinewidth\": 0, \"ticks\": \"\"}}, \"type\": \"scatterternary\"}], \"surface\": [{\"colorbar\": {\"outlinewidth\": 0, \"ticks\": \"\"}, \"colorscale\": [[0.0, \"#0d0887\"], [0.1111111111111111, \"#46039f\"], [0.2222222222222222, \"#7201a8\"], [0.3333333333333333, \"#9c179e\"], [0.4444444444444444, \"#bd3786\"], [0.5555555555555556, \"#d8576b\"], [0.6666666666666666, \"#ed7953\"], [0.7777777777777778, \"#fb9f3a\"], [0.8888888888888888, \"#fdca26\"], [1.0, \"#f0f921\"]], \"type\": \"surface\"}], \"table\": [{\"cells\": {\"fill\": {\"color\": \"#EBF0F8\"}, \"line\": {\"color\": \"white\"}}, \"header\": {\"fill\": {\"color\": \"#C8D4E3\"}, \"line\": {\"color\": \"white\"}}, \"type\": \"table\"}]}, \"layout\": {\"annotationdefaults\": {\"arrowcolor\": \"#2a3f5f\", \"arrowhead\": 0, \"arrowwidth\": 1}, \"coloraxis\": {\"colorbar\": {\"outlinewidth\": 0, \"ticks\": \"\"}}, \"colorscale\": {\"diverging\": [[0, \"#8e0152\"], [0.1, \"#c51b7d\"], [0.2, \"#de77ae\"], [0.3, \"#f1b6da\"], [0.4, \"#fde0ef\"], [0.5, \"#f7f7f7\"], [0.6, \"#e6f5d0\"], [0.7, \"#b8e186\"], [0.8, \"#7fbc41\"], [0.9, \"#4d9221\"], [1, \"#276419\"]], \"sequential\": [[0.0, \"#0d0887\"], [0.1111111111111111, \"#46039f\"], [0.2222222222222222, \"#7201a8\"], [0.3333333333333333, \"#9c179e\"], [0.4444444444444444, \"#bd3786\"], [0.5555555555555556, \"#d8576b\"], [0.6666666666666666, \"#ed7953\"], [0.7777777777777778, \"#fb9f3a\"], [0.8888888888888888, \"#fdca26\"], [1.0, \"#f0f921\"]], \"sequentialminus\": [[0.0, \"#0d0887\"], [0.1111111111111111, \"#46039f\"], [0.2222222222222222, \"#7201a8\"], [0.3333333333333333, \"#9c179e\"], [0.4444444444444444, \"#bd3786\"], [0.5555555555555556, \"#d8576b\"], [0.6666666666666666, \"#ed7953\"], [0.7777777777777778, \"#fb9f3a\"], [0.8888888888888888, \"#fdca26\"], [1.0, \"#f0f921\"]]}, \"colorway\": [\"#636efa\", \"#EF553B\", \"#00cc96\", \"#ab63fa\", \"#FFA15A\", \"#19d3f3\", \"#FF6692\", \"#B6E880\", \"#FF97FF\", \"#FECB52\"], \"font\": {\"color\": \"#2a3f5f\"}, \"geo\": {\"bgcolor\": \"white\", \"lakecolor\": \"white\", \"landcolor\": \"#E5ECF6\", \"showlakes\": true, \"showland\": true, \"subunitcolor\": \"white\"}, \"hoverlabel\": {\"align\": \"left\"}, \"hovermode\": \"closest\", \"mapbox\": {\"style\": \"light\"}, \"paper_bgcolor\": \"white\", \"plot_bgcolor\": \"#E5ECF6\", \"polar\": {\"angularaxis\": {\"gridcolor\": \"white\", \"linecolor\": \"white\", \"ticks\": \"\"}, \"bgcolor\": \"#E5ECF6\", \"radialaxis\": {\"gridcolor\": \"white\", \"linecolor\": \"white\", \"ticks\": \"\"}}, \"scene\": {\"xaxis\": {\"backgroundcolor\": \"#E5ECF6\", \"gridcolor\": \"white\", \"gridwidth\": 2, \"linecolor\": \"white\", \"showbackground\": true, \"ticks\": \"\", \"zerolinecolor\": \"white\"}, \"yaxis\": {\"backgroundcolor\": \"#E5ECF6\", \"gridcolor\": \"white\", \"gridwidth\": 2, \"linecolor\": \"white\", \"showbackground\": true, \"ticks\": \"\", \"zerolinecolor\": \"white\"}, \"zaxis\": {\"backgroundcolor\": \"#E5ECF6\", \"gridcolor\": \"white\", \"gridwidth\": 2, \"linecolor\": \"white\", \"showbackground\": true, \"ticks\": \"\", \"zerolinecolor\": \"white\"}}, \"shapedefaults\": {\"line\": {\"color\": \"#2a3f5f\"}}, \"ternary\": {\"aaxis\": {\"gridcolor\": \"white\", \"linecolor\": \"white\", \"ticks\": \"\"}, \"baxis\": {\"gridcolor\": \"white\", \"linecolor\": \"white\", \"ticks\": \"\"}, \"bgcolor\": \"#E5ECF6\", \"caxis\": {\"gridcolor\": \"white\", \"linecolor\": \"white\", \"ticks\": \"\"}}, \"title\": {\"x\": 0.05}, \"xaxis\": {\"automargin\": true, \"gridcolor\": \"white\", \"linecolor\": \"white\", \"ticks\": \"\", \"title\": {\"standoff\": 15}, \"zerolinecolor\": \"white\", \"zerolinewidth\": 2}, \"yaxis\": {\"automargin\": true, \"gridcolor\": \"white\", \"linecolor\": \"white\", \"ticks\": \"\", \"title\": {\"standoff\": 15}, \"zerolinecolor\": \"white\", \"zerolinewidth\": 2}}}, \"title\": {\"text\": \"Visualizing Clusters in Two Dimensions Using PCA\"}, \"xaxis\": {\"ticklen\": 5, \"title\": {\"text\": \"Principal Component 1\"}, \"zeroline\": false}, \"yaxis\": {\"ticklen\": 5, \"title\": {\"text\": \"Principal Component 2\"}, \"zeroline\": false}},\n",
              "                        {\"responsive\": true}\n",
              "                    ).then(function(){\n",
              "                            \n",
              "var gd = document.getElementById('4dc5d5de-d062-4125-867e-3b3b3a463598');\n",
              "var x = new MutationObserver(function (mutations, observer) {{\n",
              "        var display = window.getComputedStyle(gd).display;\n",
              "        if (!display || display === 'none') {{\n",
              "            console.log([gd, 'removed!']);\n",
              "            Plotly.purge(gd);\n",
              "            observer.disconnect();\n",
              "        }}\n",
              "}});\n",
              "\n",
              "// Listen for the removal of the full notebook cells\n",
              "var notebookContainer = gd.closest('#notebook-container');\n",
              "if (notebookContainer) {{\n",
              "    x.observe(notebookContainer, {childList: true});\n",
              "}}\n",
              "\n",
              "// Listen for the clearing of the current output cell\n",
              "var outputEl = gd.closest('.output');\n",
              "if (outputEl) {{\n",
              "    x.observe(outputEl, {childList: true});\n",
              "}}\n",
              "\n",
              "                        })\n",
              "                };\n",
              "                \n",
              "            </script>\n",
              "        </div>\n",
              "</body>\n",
              "</html>"
            ]
          },
          "metadata": {}
        }
      ]
    }
  ]
}